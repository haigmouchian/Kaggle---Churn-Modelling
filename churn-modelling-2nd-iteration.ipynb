{
 "cells": [
  {
   "cell_type": "code",
   "execution_count": 1,
   "id": "d93d199e",
   "metadata": {
    "_cell_guid": "b1076dfc-b9ad-4769-8c92-a6c4dae69d19",
    "_uuid": "8f2839f25d086af736a60e9eeb907d3b93b6e0e5",
    "execution": {
     "iopub.execute_input": "2021-10-11T13:06:24.042714Z",
     "iopub.status.busy": "2021-10-11T13:06:24.041494Z",
     "iopub.status.idle": "2021-10-11T13:06:25.105791Z",
     "shell.execute_reply": "2021-10-11T13:06:25.106585Z",
     "shell.execute_reply.started": "2021-10-10T16:30:12.978814Z"
    },
    "papermill": {
     "duration": 1.145363,
     "end_time": "2021-10-11T13:06:25.106893",
     "exception": false,
     "start_time": "2021-10-11T13:06:23.961530",
     "status": "completed"
    },
    "tags": []
   },
   "outputs": [
    {
     "name": "stdout",
     "output_type": "stream",
     "text": [
      "/kaggle/input/churn-modelling/Churn_Modelling.csv\n"
     ]
    }
   ],
   "source": [
    "# This Python 3 environment comes with many helpful analytics libraries installed\n",
    "# It is defined by the kaggle/python Docker image: https://github.com/kaggle/docker-python\n",
    "# For example, here's several helpful packages to load\n",
    "\n",
    "import numpy as np # linear algebra\n",
    "from numpy import mean\n",
    "from numpy import std\n",
    "import pandas as pd # data processing, CSV file I/O (e.g. pd.read_csv)\n",
    "import seaborn as sns \n",
    "import matplotlib.pyplot as plt\n",
    "from matplotlib import pyplot\n",
    "from scipy.stats import norm\n",
    "from scipy import stats\n",
    "from scipy.stats import uniform, truncnorm, randint\n",
    "import warnings\n",
    "warnings.filterwarnings('ignore')\n",
    "%matplotlib inline\n",
    "\n",
    "# Input data files are available in the read-only \"../input/\" directory\n",
    "# For example, running this (by clicking run or pressing Shift+Enter) will list all files under the input directory\n",
    "\n",
    "import os\n",
    "for dirname, _, filenames in os.walk('/kaggle/input'):\n",
    "    for filename in filenames:\n",
    "        print(os.path.join(dirname, filename))\n",
    "\n",
    "# You can write up to 20GB to the current directory (/kaggle/working/) that gets preserved as output when you create a version using \"Save & Run All\" \n",
    "# You can also write temporary files to /kaggle/temp/, but they won't be saved outside of the current session"
   ]
  },
  {
   "cell_type": "code",
   "execution_count": 2,
   "id": "2fe9be9f",
   "metadata": {
    "execution": {
     "iopub.execute_input": "2021-10-11T13:06:25.218596Z",
     "iopub.status.busy": "2021-10-11T13:06:25.217708Z",
     "iopub.status.idle": "2021-10-11T13:06:25.821176Z",
     "shell.execute_reply": "2021-10-11T13:06:25.819814Z",
     "shell.execute_reply.started": "2021-10-10T16:30:12.997336Z"
    },
    "papermill": {
     "duration": 0.662631,
     "end_time": "2021-10-11T13:06:25.821350",
     "exception": false,
     "start_time": "2021-10-11T13:06:25.158719",
     "status": "completed"
    },
    "tags": []
   },
   "outputs": [],
   "source": [
    "from sklearn.model_selection import train_test_split, GridSearchCV, StratifiedKFold, RandomizedSearchCV\n",
    "from sklearn.preprocessing import StandardScaler\n",
    "from sklearn.model_selection import cross_val_score\n",
    "from sklearn.metrics import RocCurveDisplay, roc_curve, auc, recall_score, precision_score, f1_score, accuracy_score, precision_recall_curve, roc_auc_score, classification_report, confusion_matrix\n",
    "\n",
    "from imblearn.over_sampling import RandomOverSampler\n",
    "from imblearn.under_sampling import RandomUnderSampler\n",
    "from imblearn.over_sampling import SMOTE\n",
    "\n",
    "from imblearn.pipeline import Pipeline as imbpipeline\n",
    "from imblearn.pipeline import make_pipeline\n",
    "from sklearn.pipeline import Pipeline\n",
    "\n",
    "from sklearn.naive_bayes import GaussianNB\n",
    "from sklearn.linear_model import LogisticRegression\n",
    "from sklearn.svm import LinearSVC\n",
    "from sklearn.ensemble import RandomForestClassifier\n",
    "import xgboost as xgb"
   ]
  },
  {
   "cell_type": "markdown",
   "id": "f7f179a3",
   "metadata": {
    "papermill": {
     "duration": 0.054531,
     "end_time": "2021-10-11T13:06:25.929035",
     "exception": false,
     "start_time": "2021-10-11T13:06:25.874504",
     "status": "completed"
    },
    "tags": []
   },
   "source": [
    "# Introduction"
   ]
  },
  {
   "cell_type": "markdown",
   "id": "061668dd",
   "metadata": {
    "papermill": {
     "duration": 0.050915,
     "end_time": "2021-10-11T13:06:26.031029",
     "exception": false,
     "start_time": "2021-10-11T13:06:25.980114",
     "status": "completed"
    },
    "tags": []
   },
   "source": [
    "In the 1st iteration I've used the following pipeline:\n",
    "* Standard Scaler\n",
    "* Oversampling\n",
    "* Random Forest Classifier\n",
    "\n",
    "And reached the following score:\n",
    "* Final Test ROC-AUC: 0.79 \\\n",
    "Which is not good, since approximately 79% of the dataset have exited.\n",
    "\n",
    "The most important features according to the classifier were Age (which was transformed with Box-Cox, although this shouldn't matter in RF) and NumOfProducts, which I think it is a distorsive feature with cuestionable information. The least important features are HasCrCard, Geography and Gender. I had also created 2 features which are ratios of Age: one whith Credit Score (which was pretty important in the model) and other with Estimated Salary (which was less important).\n",
    "\n",
    "In this notebook I will use the results from the 1st iteration to see if I can improve the final score. For this, I will be focusing mainly on **Feature Engineering techniques**. The pipeline will stay the same, meaning I will use Standard Scaler to scale the data, Oversampling as the resampler and Random Forests as the model. Comparing the different techniques using the same pipeline I can compare them and see which one yields the best results, and see if I can improve what I did in the previous notebook."
   ]
  },
  {
   "cell_type": "markdown",
   "id": "3da2b214",
   "metadata": {
    "papermill": {
     "duration": 0.051628,
     "end_time": "2021-10-11T13:06:26.133967",
     "exception": false,
     "start_time": "2021-10-11T13:06:26.082339",
     "status": "completed"
    },
    "tags": []
   },
   "source": [
    "# Get the Data"
   ]
  },
  {
   "cell_type": "code",
   "execution_count": 3,
   "id": "73e07cf3",
   "metadata": {
    "execution": {
     "iopub.execute_input": "2021-10-11T13:06:26.241648Z",
     "iopub.status.busy": "2021-10-11T13:06:26.241015Z",
     "iopub.status.idle": "2021-10-11T13:06:26.289715Z",
     "shell.execute_reply": "2021-10-11T13:06:26.289054Z",
     "shell.execute_reply.started": "2021-10-10T16:30:13.014335Z"
    },
    "papermill": {
     "duration": 0.104429,
     "end_time": "2021-10-11T13:06:26.289858",
     "exception": false,
     "start_time": "2021-10-11T13:06:26.185429",
     "status": "completed"
    },
    "tags": []
   },
   "outputs": [],
   "source": [
    "df = pd.read_csv('../input/churn-modelling/Churn_Modelling.csv')"
   ]
  },
  {
   "cell_type": "code",
   "execution_count": 4,
   "id": "0ab2a810",
   "metadata": {
    "execution": {
     "iopub.execute_input": "2021-10-11T13:06:26.400832Z",
     "iopub.status.busy": "2021-10-11T13:06:26.400181Z",
     "iopub.status.idle": "2021-10-11T13:06:26.420090Z",
     "shell.execute_reply": "2021-10-11T13:06:26.419548Z",
     "shell.execute_reply.started": "2021-10-10T16:30:13.056273Z"
    },
    "papermill": {
     "duration": 0.079241,
     "end_time": "2021-10-11T13:06:26.420228",
     "exception": false,
     "start_time": "2021-10-11T13:06:26.340987",
     "status": "completed"
    },
    "tags": []
   },
   "outputs": [
    {
     "data": {
      "text/html": [
       "<div>\n",
       "<style scoped>\n",
       "    .dataframe tbody tr th:only-of-type {\n",
       "        vertical-align: middle;\n",
       "    }\n",
       "\n",
       "    .dataframe tbody tr th {\n",
       "        vertical-align: top;\n",
       "    }\n",
       "\n",
       "    .dataframe thead th {\n",
       "        text-align: right;\n",
       "    }\n",
       "</style>\n",
       "<table border=\"1\" class=\"dataframe\">\n",
       "  <thead>\n",
       "    <tr style=\"text-align: right;\">\n",
       "      <th></th>\n",
       "      <th>RowNumber</th>\n",
       "      <th>CustomerId</th>\n",
       "      <th>Surname</th>\n",
       "      <th>CreditScore</th>\n",
       "      <th>Geography</th>\n",
       "      <th>Gender</th>\n",
       "      <th>Age</th>\n",
       "      <th>Tenure</th>\n",
       "      <th>Balance</th>\n",
       "      <th>NumOfProducts</th>\n",
       "      <th>HasCrCard</th>\n",
       "      <th>IsActiveMember</th>\n",
       "      <th>EstimatedSalary</th>\n",
       "      <th>Exited</th>\n",
       "    </tr>\n",
       "  </thead>\n",
       "  <tbody>\n",
       "    <tr>\n",
       "      <th>0</th>\n",
       "      <td>1</td>\n",
       "      <td>15634602</td>\n",
       "      <td>Hargrave</td>\n",
       "      <td>619</td>\n",
       "      <td>France</td>\n",
       "      <td>Female</td>\n",
       "      <td>42</td>\n",
       "      <td>2</td>\n",
       "      <td>0.00</td>\n",
       "      <td>1</td>\n",
       "      <td>1</td>\n",
       "      <td>1</td>\n",
       "      <td>101348.88</td>\n",
       "      <td>1</td>\n",
       "    </tr>\n",
       "    <tr>\n",
       "      <th>1</th>\n",
       "      <td>2</td>\n",
       "      <td>15647311</td>\n",
       "      <td>Hill</td>\n",
       "      <td>608</td>\n",
       "      <td>Spain</td>\n",
       "      <td>Female</td>\n",
       "      <td>41</td>\n",
       "      <td>1</td>\n",
       "      <td>83807.86</td>\n",
       "      <td>1</td>\n",
       "      <td>0</td>\n",
       "      <td>1</td>\n",
       "      <td>112542.58</td>\n",
       "      <td>0</td>\n",
       "    </tr>\n",
       "    <tr>\n",
       "      <th>2</th>\n",
       "      <td>3</td>\n",
       "      <td>15619304</td>\n",
       "      <td>Onio</td>\n",
       "      <td>502</td>\n",
       "      <td>France</td>\n",
       "      <td>Female</td>\n",
       "      <td>42</td>\n",
       "      <td>8</td>\n",
       "      <td>159660.80</td>\n",
       "      <td>3</td>\n",
       "      <td>1</td>\n",
       "      <td>0</td>\n",
       "      <td>113931.57</td>\n",
       "      <td>1</td>\n",
       "    </tr>\n",
       "    <tr>\n",
       "      <th>3</th>\n",
       "      <td>4</td>\n",
       "      <td>15701354</td>\n",
       "      <td>Boni</td>\n",
       "      <td>699</td>\n",
       "      <td>France</td>\n",
       "      <td>Female</td>\n",
       "      <td>39</td>\n",
       "      <td>1</td>\n",
       "      <td>0.00</td>\n",
       "      <td>2</td>\n",
       "      <td>0</td>\n",
       "      <td>0</td>\n",
       "      <td>93826.63</td>\n",
       "      <td>0</td>\n",
       "    </tr>\n",
       "    <tr>\n",
       "      <th>4</th>\n",
       "      <td>5</td>\n",
       "      <td>15737888</td>\n",
       "      <td>Mitchell</td>\n",
       "      <td>850</td>\n",
       "      <td>Spain</td>\n",
       "      <td>Female</td>\n",
       "      <td>43</td>\n",
       "      <td>2</td>\n",
       "      <td>125510.82</td>\n",
       "      <td>1</td>\n",
       "      <td>1</td>\n",
       "      <td>1</td>\n",
       "      <td>79084.10</td>\n",
       "      <td>0</td>\n",
       "    </tr>\n",
       "  </tbody>\n",
       "</table>\n",
       "</div>"
      ],
      "text/plain": [
       "   RowNumber  CustomerId   Surname  CreditScore Geography  Gender  Age  \\\n",
       "0          1    15634602  Hargrave          619    France  Female   42   \n",
       "1          2    15647311      Hill          608     Spain  Female   41   \n",
       "2          3    15619304      Onio          502    France  Female   42   \n",
       "3          4    15701354      Boni          699    France  Female   39   \n",
       "4          5    15737888  Mitchell          850     Spain  Female   43   \n",
       "\n",
       "   Tenure    Balance  NumOfProducts  HasCrCard  IsActiveMember  \\\n",
       "0       2       0.00              1          1               1   \n",
       "1       1   83807.86              1          0               1   \n",
       "2       8  159660.80              3          1               0   \n",
       "3       1       0.00              2          0               0   \n",
       "4       2  125510.82              1          1               1   \n",
       "\n",
       "   EstimatedSalary  Exited  \n",
       "0        101348.88       1  \n",
       "1        112542.58       0  \n",
       "2        113931.57       1  \n",
       "3         93826.63       0  \n",
       "4         79084.10       0  "
      ]
     },
     "execution_count": 4,
     "metadata": {},
     "output_type": "execute_result"
    }
   ],
   "source": [
    "df.head()"
   ]
  },
  {
   "cell_type": "markdown",
   "id": "c0605081",
   "metadata": {
    "papermill": {
     "duration": 0.051847,
     "end_time": "2021-10-11T13:06:26.524127",
     "exception": false,
     "start_time": "2021-10-11T13:06:26.472280",
     "status": "completed"
    },
    "tags": []
   },
   "source": [
    "# Transform data"
   ]
  },
  {
   "cell_type": "markdown",
   "id": "56cc5ffc",
   "metadata": {
    "papermill": {
     "duration": 0.051788,
     "end_time": "2021-10-11T13:06:26.627808",
     "exception": false,
     "start_time": "2021-10-11T13:06:26.576020",
     "status": "completed"
    },
    "tags": []
   },
   "source": [
    "This transformations are done according to the EDA and modelling from the 1st iteration."
   ]
  },
  {
   "cell_type": "code",
   "execution_count": 5,
   "id": "17224cca",
   "metadata": {
    "execution": {
     "iopub.execute_input": "2021-10-11T13:06:26.743194Z",
     "iopub.status.busy": "2021-10-11T13:06:26.742477Z",
     "iopub.status.idle": "2021-10-11T13:06:26.787713Z",
     "shell.execute_reply": "2021-10-11T13:06:26.788222Z",
     "shell.execute_reply.started": "2021-10-10T16:30:13.075276Z"
    },
    "papermill": {
     "duration": 0.108697,
     "end_time": "2021-10-11T13:06:26.788424",
     "exception": false,
     "start_time": "2021-10-11T13:06:26.679727",
     "status": "completed"
    },
    "tags": []
   },
   "outputs": [],
   "source": [
    "# Create interaction variables\n",
    "df['ratio_CreditScore_Age'] = df['CreditScore']/df['Age']\n",
    "df['ratio_EstimatedSalary_Age'] = df['EstimatedSalary']/df['Age']\n",
    "\n",
    "# Create Box-Cox transofrmation of Age and drop original feature\n",
    "fitted_data, fitted_lambda = stats.boxcox(df['Age'])\n",
    "df['Age_BoxCox'] = fitted_data\n",
    "df.drop('Age', axis=1, inplace=True)\n",
    "\n",
    "# Convert categorical variables with get_dummies\n",
    "df = pd.get_dummies(df, columns=['Geography','Gender'])\n",
    "\n",
    "# Drop 'RowNumber', 'CustomerId' & 'Surname' columns\n",
    "df = df.iloc[:,3:]"
   ]
  },
  {
   "cell_type": "code",
   "execution_count": 6,
   "id": "c4b77bb2",
   "metadata": {
    "execution": {
     "iopub.execute_input": "2021-10-11T13:06:26.898590Z",
     "iopub.status.busy": "2021-10-11T13:06:26.897871Z",
     "iopub.status.idle": "2021-10-11T13:06:26.916062Z",
     "shell.execute_reply": "2021-10-11T13:06:26.915346Z",
     "shell.execute_reply.started": "2021-10-10T16:30:13.126517Z"
    },
    "papermill": {
     "duration": 0.075305,
     "end_time": "2021-10-11T13:06:26.916217",
     "exception": false,
     "start_time": "2021-10-11T13:06:26.840912",
     "status": "completed"
    },
    "tags": []
   },
   "outputs": [],
   "source": [
    "# Split dataset in train and test set\n",
    "\n",
    "X = df.drop('Exited', axis=1)\n",
    "y = df['Exited']\n",
    "\n",
    "X_train, X_test, y_train, y_test = train_test_split(X, y, test_size=0.2, stratify=y, random_state=11)"
   ]
  },
  {
   "cell_type": "code",
   "execution_count": 7,
   "id": "2f204ea0",
   "metadata": {
    "execution": {
     "iopub.execute_input": "2021-10-11T13:06:27.044241Z",
     "iopub.status.busy": "2021-10-11T13:06:27.043315Z",
     "iopub.status.idle": "2021-10-11T13:06:27.046923Z",
     "shell.execute_reply": "2021-10-11T13:06:27.047409Z",
     "shell.execute_reply.started": "2021-10-10T16:30:13.149427Z"
    },
    "papermill": {
     "duration": 0.07855,
     "end_time": "2021-10-11T13:06:27.047573",
     "exception": false,
     "start_time": "2021-10-11T13:06:26.969023",
     "status": "completed"
    },
    "tags": []
   },
   "outputs": [
    {
     "data": {
      "text/html": [
       "<div>\n",
       "<style scoped>\n",
       "    .dataframe tbody tr th:only-of-type {\n",
       "        vertical-align: middle;\n",
       "    }\n",
       "\n",
       "    .dataframe tbody tr th {\n",
       "        vertical-align: top;\n",
       "    }\n",
       "\n",
       "    .dataframe thead th {\n",
       "        text-align: right;\n",
       "    }\n",
       "</style>\n",
       "<table border=\"1\" class=\"dataframe\">\n",
       "  <thead>\n",
       "    <tr style=\"text-align: right;\">\n",
       "      <th></th>\n",
       "      <th>CreditScore</th>\n",
       "      <th>Tenure</th>\n",
       "      <th>Balance</th>\n",
       "      <th>NumOfProducts</th>\n",
       "      <th>HasCrCard</th>\n",
       "      <th>IsActiveMember</th>\n",
       "      <th>EstimatedSalary</th>\n",
       "      <th>ratio_CreditScore_Age</th>\n",
       "      <th>ratio_EstimatedSalary_Age</th>\n",
       "      <th>Age_BoxCox</th>\n",
       "      <th>Geography_France</th>\n",
       "      <th>Geography_Germany</th>\n",
       "      <th>Geography_Spain</th>\n",
       "      <th>Gender_Female</th>\n",
       "      <th>Gender_Male</th>\n",
       "    </tr>\n",
       "  </thead>\n",
       "  <tbody>\n",
       "    <tr>\n",
       "      <th>6614</th>\n",
       "      <td>689</td>\n",
       "      <td>1</td>\n",
       "      <td>165312.27</td>\n",
       "      <td>1</td>\n",
       "      <td>1</td>\n",
       "      <td>0</td>\n",
       "      <td>155495.63</td>\n",
       "      <td>20.264706</td>\n",
       "      <td>4573.400882</td>\n",
       "      <td>2.437258</td>\n",
       "      <td>1</td>\n",
       "      <td>0</td>\n",
       "      <td>0</td>\n",
       "      <td>0</td>\n",
       "      <td>1</td>\n",
       "    </tr>\n",
       "    <tr>\n",
       "      <th>2694</th>\n",
       "      <td>628</td>\n",
       "      <td>3</td>\n",
       "      <td>113146.98</td>\n",
       "      <td>2</td>\n",
       "      <td>0</td>\n",
       "      <td>1</td>\n",
       "      <td>124749.08</td>\n",
       "      <td>21.655172</td>\n",
       "      <td>4301.692414</td>\n",
       "      <td>2.363809</td>\n",
       "      <td>0</td>\n",
       "      <td>1</td>\n",
       "      <td>0</td>\n",
       "      <td>0</td>\n",
       "      <td>1</td>\n",
       "    </tr>\n",
       "    <tr>\n",
       "      <th>7439</th>\n",
       "      <td>432</td>\n",
       "      <td>6</td>\n",
       "      <td>62339.81</td>\n",
       "      <td>2</td>\n",
       "      <td>0</td>\n",
       "      <td>0</td>\n",
       "      <td>53874.67</td>\n",
       "      <td>16.000000</td>\n",
       "      <td>1995.358148</td>\n",
       "      <td>2.329951</td>\n",
       "      <td>1</td>\n",
       "      <td>0</td>\n",
       "      <td>0</td>\n",
       "      <td>1</td>\n",
       "      <td>0</td>\n",
       "    </tr>\n",
       "    <tr>\n",
       "      <th>3062</th>\n",
       "      <td>582</td>\n",
       "      <td>9</td>\n",
       "      <td>0.00</td>\n",
       "      <td>3</td>\n",
       "      <td>1</td>\n",
       "      <td>1</td>\n",
       "      <td>60954.45</td>\n",
       "      <td>14.550000</td>\n",
       "      <td>1523.861250</td>\n",
       "      <td>2.509645</td>\n",
       "      <td>1</td>\n",
       "      <td>0</td>\n",
       "      <td>0</td>\n",
       "      <td>1</td>\n",
       "      <td>0</td>\n",
       "    </tr>\n",
       "    <tr>\n",
       "      <th>1902</th>\n",
       "      <td>773</td>\n",
       "      <td>10</td>\n",
       "      <td>0.00</td>\n",
       "      <td>1</td>\n",
       "      <td>1</td>\n",
       "      <td>1</td>\n",
       "      <td>98820.09</td>\n",
       "      <td>23.424242</td>\n",
       "      <td>2994.548182</td>\n",
       "      <td>2.423673</td>\n",
       "      <td>0</td>\n",
       "      <td>0</td>\n",
       "      <td>1</td>\n",
       "      <td>1</td>\n",
       "      <td>0</td>\n",
       "    </tr>\n",
       "    <tr>\n",
       "      <th>...</th>\n",
       "      <td>...</td>\n",
       "      <td>...</td>\n",
       "      <td>...</td>\n",
       "      <td>...</td>\n",
       "      <td>...</td>\n",
       "      <td>...</td>\n",
       "      <td>...</td>\n",
       "      <td>...</td>\n",
       "      <td>...</td>\n",
       "      <td>...</td>\n",
       "      <td>...</td>\n",
       "      <td>...</td>\n",
       "      <td>...</td>\n",
       "      <td>...</td>\n",
       "      <td>...</td>\n",
       "    </tr>\n",
       "    <tr>\n",
       "      <th>390</th>\n",
       "      <td>712</td>\n",
       "      <td>7</td>\n",
       "      <td>147199.07</td>\n",
       "      <td>1</td>\n",
       "      <td>1</td>\n",
       "      <td>1</td>\n",
       "      <td>84932.40</td>\n",
       "      <td>24.551724</td>\n",
       "      <td>2928.703448</td>\n",
       "      <td>2.363809</td>\n",
       "      <td>0</td>\n",
       "      <td>1</td>\n",
       "      <td>0</td>\n",
       "      <td>1</td>\n",
       "      <td>0</td>\n",
       "    </tr>\n",
       "    <tr>\n",
       "      <th>9014</th>\n",
       "      <td>596</td>\n",
       "      <td>7</td>\n",
       "      <td>121907.97</td>\n",
       "      <td>1</td>\n",
       "      <td>0</td>\n",
       "      <td>1</td>\n",
       "      <td>30314.04</td>\n",
       "      <td>9.933333</td>\n",
       "      <td>505.234000</td>\n",
       "      <td>2.679151</td>\n",
       "      <td>0</td>\n",
       "      <td>0</td>\n",
       "      <td>1</td>\n",
       "      <td>0</td>\n",
       "      <td>1</td>\n",
       "    </tr>\n",
       "    <tr>\n",
       "      <th>8031</th>\n",
       "      <td>666</td>\n",
       "      <td>6</td>\n",
       "      <td>0.00</td>\n",
       "      <td>2</td>\n",
       "      <td>1</td>\n",
       "      <td>0</td>\n",
       "      <td>176692.87</td>\n",
       "      <td>18.500000</td>\n",
       "      <td>4908.135278</td>\n",
       "      <td>2.463018</td>\n",
       "      <td>0</td>\n",
       "      <td>0</td>\n",
       "      <td>1</td>\n",
       "      <td>1</td>\n",
       "      <td>0</td>\n",
       "    </tr>\n",
       "    <tr>\n",
       "      <th>9153</th>\n",
       "      <td>507</td>\n",
       "      <td>9</td>\n",
       "      <td>118214.32</td>\n",
       "      <td>3</td>\n",
       "      <td>1</td>\n",
       "      <td>0</td>\n",
       "      <td>119110.03</td>\n",
       "      <td>14.083333</td>\n",
       "      <td>3308.611944</td>\n",
       "      <td>2.463018</td>\n",
       "      <td>0</td>\n",
       "      <td>1</td>\n",
       "      <td>0</td>\n",
       "      <td>0</td>\n",
       "      <td>1</td>\n",
       "    </tr>\n",
       "    <tr>\n",
       "      <th>7317</th>\n",
       "      <td>727</td>\n",
       "      <td>5</td>\n",
       "      <td>152581.06</td>\n",
       "      <td>1</td>\n",
       "      <td>1</td>\n",
       "      <td>0</td>\n",
       "      <td>71830.10</td>\n",
       "      <td>12.322034</td>\n",
       "      <td>1217.459322</td>\n",
       "      <td>2.672427</td>\n",
       "      <td>0</td>\n",
       "      <td>1</td>\n",
       "      <td>0</td>\n",
       "      <td>0</td>\n",
       "      <td>1</td>\n",
       "    </tr>\n",
       "  </tbody>\n",
       "</table>\n",
       "<p>8000 rows × 15 columns</p>\n",
       "</div>"
      ],
      "text/plain": [
       "      CreditScore  Tenure    Balance  NumOfProducts  HasCrCard  \\\n",
       "6614          689       1  165312.27              1          1   \n",
       "2694          628       3  113146.98              2          0   \n",
       "7439          432       6   62339.81              2          0   \n",
       "3062          582       9       0.00              3          1   \n",
       "1902          773      10       0.00              1          1   \n",
       "...           ...     ...        ...            ...        ...   \n",
       "390           712       7  147199.07              1          1   \n",
       "9014          596       7  121907.97              1          0   \n",
       "8031          666       6       0.00              2          1   \n",
       "9153          507       9  118214.32              3          1   \n",
       "7317          727       5  152581.06              1          1   \n",
       "\n",
       "      IsActiveMember  EstimatedSalary  ratio_CreditScore_Age  \\\n",
       "6614               0        155495.63              20.264706   \n",
       "2694               1        124749.08              21.655172   \n",
       "7439               0         53874.67              16.000000   \n",
       "3062               1         60954.45              14.550000   \n",
       "1902               1         98820.09              23.424242   \n",
       "...              ...              ...                    ...   \n",
       "390                1         84932.40              24.551724   \n",
       "9014               1         30314.04               9.933333   \n",
       "8031               0        176692.87              18.500000   \n",
       "9153               0        119110.03              14.083333   \n",
       "7317               0         71830.10              12.322034   \n",
       "\n",
       "      ratio_EstimatedSalary_Age  Age_BoxCox  Geography_France  \\\n",
       "6614                4573.400882    2.437258                 1   \n",
       "2694                4301.692414    2.363809                 0   \n",
       "7439                1995.358148    2.329951                 1   \n",
       "3062                1523.861250    2.509645                 1   \n",
       "1902                2994.548182    2.423673                 0   \n",
       "...                         ...         ...               ...   \n",
       "390                 2928.703448    2.363809                 0   \n",
       "9014                 505.234000    2.679151                 0   \n",
       "8031                4908.135278    2.463018                 0   \n",
       "9153                3308.611944    2.463018                 0   \n",
       "7317                1217.459322    2.672427                 0   \n",
       "\n",
       "      Geography_Germany  Geography_Spain  Gender_Female  Gender_Male  \n",
       "6614                  0                0              0            1  \n",
       "2694                  1                0              0            1  \n",
       "7439                  0                0              1            0  \n",
       "3062                  0                0              1            0  \n",
       "1902                  0                1              1            0  \n",
       "...                 ...              ...            ...          ...  \n",
       "390                   1                0              1            0  \n",
       "9014                  0                1              0            1  \n",
       "8031                  0                1              1            0  \n",
       "9153                  1                0              0            1  \n",
       "7317                  1                0              0            1  \n",
       "\n",
       "[8000 rows x 15 columns]"
      ]
     },
     "execution_count": 7,
     "metadata": {},
     "output_type": "execute_result"
    }
   ],
   "source": [
    "X_train"
   ]
  },
  {
   "cell_type": "markdown",
   "id": "fbff1a9b",
   "metadata": {
    "papermill": {
     "duration": 0.052426,
     "end_time": "2021-10-11T13:06:27.153255",
     "exception": false,
     "start_time": "2021-10-11T13:06:27.100829",
     "status": "completed"
    },
    "tags": []
   },
   "source": [
    "# Feature Engineering techniques"
   ]
  },
  {
   "cell_type": "markdown",
   "id": "2b8233ee",
   "metadata": {
    "papermill": {
     "duration": 0.052272,
     "end_time": "2021-10-11T13:06:27.259153",
     "exception": false,
     "start_time": "2021-10-11T13:06:27.206881",
     "status": "completed"
    },
    "tags": []
   },
   "source": [
    "In order to use the best features for my model, I will explore these different techniques:\n",
    "* 1. Recursive Feature Elimination (RFE) with Random Forest\n",
    "* 2. Principal Component Analysis (PCA)\n",
    "* 3. The Lasso Regression"
   ]
  },
  {
   "cell_type": "code",
   "execution_count": 8,
   "id": "a961b78c",
   "metadata": {
    "execution": {
     "iopub.execute_input": "2021-10-11T13:06:27.371894Z",
     "iopub.status.busy": "2021-10-11T13:06:27.371245Z",
     "iopub.status.idle": "2021-10-11T13:06:27.388295Z",
     "shell.execute_reply": "2021-10-11T13:06:27.387711Z",
     "shell.execute_reply.started": "2021-10-10T16:30:13.184480Z"
    },
    "papermill": {
     "duration": 0.076728,
     "end_time": "2021-10-11T13:06:27.388435",
     "exception": false,
     "start_time": "2021-10-11T13:06:27.311707",
     "status": "completed"
    },
    "tags": []
   },
   "outputs": [],
   "source": [
    "from sklearn.model_selection import train_test_split, GridSearchCV, StratifiedKFold, RandomizedSearchCV, RepeatedStratifiedKFold, cross_val_score\n",
    "from sklearn.preprocessing import StandardScaler\n",
    "from sklearn.metrics import RocCurveDisplay, roc_curve, auc, recall_score, precision_score, f1_score, accuracy_score, precision_recall_curve, roc_auc_score, classification_report, confusion_matrix\n",
    "\n",
    "from imblearn.over_sampling import RandomOverSampler\n",
    "\n",
    "from imblearn.pipeline import Pipeline as imbpipeline\n",
    "from imblearn.pipeline import make_pipeline\n",
    "from sklearn.pipeline import Pipeline\n",
    "\n",
    "from sklearn.feature_selection import RFE\n",
    "from sklearn.decomposition import PCA\n",
    "from sklearn.ensemble import RandomForestClassifier\n",
    "from sklearn.linear_model import Lasso\n"
   ]
  },
  {
   "cell_type": "markdown",
   "id": "c3fc1e91",
   "metadata": {
    "papermill": {
     "duration": 0.052454,
     "end_time": "2021-10-11T13:06:27.494564",
     "exception": false,
     "start_time": "2021-10-11T13:06:27.442110",
     "status": "completed"
    },
    "tags": []
   },
   "source": [
    "## Base model"
   ]
  },
  {
   "cell_type": "code",
   "execution_count": 9,
   "id": "4f28c114",
   "metadata": {
    "execution": {
     "iopub.execute_input": "2021-10-11T13:06:27.603871Z",
     "iopub.status.busy": "2021-10-11T13:06:27.602923Z",
     "iopub.status.idle": "2021-10-11T13:06:38.754103Z",
     "shell.execute_reply": "2021-10-11T13:06:38.754665Z",
     "shell.execute_reply.started": "2021-10-10T16:30:13.196468Z"
    },
    "papermill": {
     "duration": 11.207721,
     "end_time": "2021-10-11T13:06:38.754840",
     "exception": false,
     "start_time": "2021-10-11T13:06:27.547119",
     "status": "completed"
    },
    "tags": []
   },
   "outputs": [
    {
     "name": "stdout",
     "output_type": "stream",
     "text": [
      "ROC AUC of base model: 0.845 (0.012)\n"
     ]
    }
   ],
   "source": [
    "# Initialize and create pipeline\n",
    "over = RandomOverSampler(random_state=11)\n",
    "scaler = StandardScaler()\n",
    "model = RandomForestClassifier(random_state=11)\n",
    "pipeline_base = imbpipeline(steps = [['over', over], ['scaler', scaler], ['classifier', model]])\n",
    "# evaluate model\n",
    "cv = RepeatedStratifiedKFold(n_splits=5, n_repeats=3, random_state=11)\n",
    "n_scores_base = cross_val_score(pipeline_base, X_train, y_train, scoring='roc_auc', cv=cv, n_jobs=-1, error_score='raise')\n",
    "# report performance\n",
    "print('ROC AUC of base model: %.3f (%.3f)' % (mean(n_scores_base), std(n_scores_base)))"
   ]
  },
  {
   "cell_type": "markdown",
   "id": "9935fe1b",
   "metadata": {
    "papermill": {
     "duration": 0.052506,
     "end_time": "2021-10-11T13:06:38.860352",
     "exception": false,
     "start_time": "2021-10-11T13:06:38.807846",
     "status": "completed"
    },
    "tags": []
   },
   "source": [
    "This is the plain model I've explored in the previous notebook. This is what I am going to try to improve with the different FE techniques.\n",
    "\n",
    "**Base Model Best Score: ROC-AUC=0,845**"
   ]
  },
  {
   "cell_type": "markdown",
   "id": "89e8180d",
   "metadata": {
    "papermill": {
     "duration": 0.053375,
     "end_time": "2021-10-11T13:06:38.967441",
     "exception": false,
     "start_time": "2021-10-11T13:06:38.914066",
     "status": "completed"
    },
    "tags": []
   },
   "source": [
    "## 1. RFE"
   ]
  },
  {
   "cell_type": "markdown",
   "id": "bc20e934",
   "metadata": {
    "papermill": {
     "duration": 0.05259,
     "end_time": "2021-10-11T13:06:39.073332",
     "exception": false,
     "start_time": "2021-10-11T13:06:39.020742",
     "status": "completed"
    },
    "tags": []
   },
   "source": [
    "I will use RFE with the base Random Forests Classifier both to select features and as the predictive model.\n",
    "\n",
    "A couple of notes in order to do this properly:\n",
    "* I will use the number of features as a hyperparameter to see how does the score vary with the number of features in the model.\n",
    "* I will use both Oversampling and RFE within cross validation to prevent data leakage."
   ]
  },
  {
   "cell_type": "code",
   "execution_count": 10,
   "id": "e36f55fa",
   "metadata": {
    "execution": {
     "iopub.execute_input": "2021-10-11T13:06:39.184531Z",
     "iopub.status.busy": "2021-10-11T13:06:39.183735Z",
     "iopub.status.idle": "2021-10-11T13:06:39.186361Z",
     "shell.execute_reply": "2021-10-11T13:06:39.186799Z",
     "shell.execute_reply.started": "2021-10-10T16:30:21.863083Z"
    },
    "papermill": {
     "duration": 0.060804,
     "end_time": "2021-10-11T13:06:39.186995",
     "exception": false,
     "start_time": "2021-10-11T13:06:39.126191",
     "status": "completed"
    },
    "tags": []
   },
   "outputs": [],
   "source": [
    "X_train_1 = X_train\n",
    "y_train_1 = y_train"
   ]
  },
  {
   "cell_type": "code",
   "execution_count": 11,
   "id": "e03cb0fd",
   "metadata": {
    "execution": {
     "iopub.execute_input": "2021-10-11T13:06:39.301093Z",
     "iopub.status.busy": "2021-10-11T13:06:39.300101Z",
     "iopub.status.idle": "2021-10-11T13:06:39.308201Z",
     "shell.execute_reply": "2021-10-11T13:06:39.308712Z",
     "shell.execute_reply.started": "2021-10-10T16:30:21.869048Z"
    },
    "papermill": {
     "duration": 0.064809,
     "end_time": "2021-10-11T13:06:39.308883",
     "exception": false,
     "start_time": "2021-10-11T13:06:39.244074",
     "status": "completed"
    },
    "tags": []
   },
   "outputs": [],
   "source": [
    "# get a list of models to evaluate, from 2 to all 15 features\n",
    "def get_models():\n",
    "    models = dict()\n",
    "    for i in range(2, 16):\n",
    "        rfe = RFE(estimator=RandomForestClassifier(random_state=11), n_features_to_select=i)\n",
    "        over = RandomOverSampler(random_state=11)\n",
    "        scaler = StandardScaler()\n",
    "        model = RandomForestClassifier(random_state=11)\n",
    "        models[str(i)] = imbpipeline(steps = [['over', over],\n",
    "                                        ['scaler', scaler],\n",
    "                                        ['rfe', rfe],      \n",
    "                                        ['classifier', model]])\n",
    "    return models\n",
    "\n",
    "# evaluate a given model using cross-validation\n",
    "def evaluate_model(model, X, y):\n",
    "    cv = RepeatedStratifiedKFold(n_splits=5, n_repeats=3, random_state=11)\n",
    "    scores = cross_val_score(model, X, y, scoring='roc_auc', cv=cv, n_jobs=-1, error_score='raise')\n",
    "    return scores"
   ]
  },
  {
   "cell_type": "code",
   "execution_count": 12,
   "id": "b7c35117",
   "metadata": {
    "execution": {
     "iopub.execute_input": "2021-10-11T13:06:39.424698Z",
     "iopub.status.busy": "2021-10-11T13:06:39.424030Z",
     "iopub.status.idle": "2021-10-11T13:24:48.996886Z",
     "shell.execute_reply": "2021-10-11T13:24:48.996352Z",
     "shell.execute_reply.started": "2021-10-10T16:30:21.883813Z"
    },
    "papermill": {
     "duration": 1089.634919,
     "end_time": "2021-10-11T13:24:48.997053",
     "exception": false,
     "start_time": "2021-10-11T13:06:39.362134",
     "status": "completed"
    },
    "tags": []
   },
   "outputs": [
    {
     "name": "stdout",
     "output_type": "stream",
     "text": [
      ">2 0.622 (0.014)\n",
      ">3 0.684 (0.010)\n",
      ">4 0.695 (0.011)\n",
      ">5 0.701 (0.015)\n",
      ">6 0.736 (0.021)\n",
      ">7 0.799 (0.011)\n",
      ">8 0.806 (0.009)\n",
      ">9 0.823 (0.010)\n",
      ">10 0.840 (0.011)\n",
      ">11 0.847 (0.010)\n",
      ">12 0.847 (0.011)\n",
      ">13 0.845 (0.011)\n",
      ">14 0.845 (0.011)\n",
      ">15 0.845 (0.012)\n"
     ]
    },
    {
     "data": {
      "image/png": "[encoded data removed]",
      "text/plain": [
       "<Figure size 432x288 with 1 Axes>"
      ]
     },
     "metadata": {
      "needs_background": "light"
     },
     "output_type": "display_data"
    }
   ],
   "source": [
    "# get the models to evaluate\n",
    "models = get_models()\n",
    "\n",
    "# evaluate the models and store results\n",
    "results, names = list(), list()\n",
    "for name, model in models.items():\n",
    "    scores = evaluate_model(model, X_train_1, y_train_1)\n",
    "    results.append(scores)\n",
    "    names.append(name)\n",
    "    print('>%s %.3f (%.3f)' % (name, mean(scores), std(scores)))\n",
    "    \n",
    "# plot model performance for comparison\n",
    "pyplot.boxplot(results, labels=names, showmeans=True)\n",
    "pyplot.show()"
   ]
  },
  {
   "cell_type": "markdown",
   "id": "c8e4d182",
   "metadata": {
    "papermill": {
     "duration": 0.057497,
     "end_time": "2021-10-11T13:24:49.114737",
     "exception": false,
     "start_time": "2021-10-11T13:24:49.057240",
     "status": "completed"
    },
    "tags": []
   },
   "source": [
    "It seems that there is a peak in 11-12 features and then performance falls slightly. This is to be expected, as RF is a Tree-based model, which are realtively immune to useless features. However, it is probably better to keep only the important ones, which in this case are 11 or 12.\n",
    "\n",
    "Let's see which are the most and least important features according to RFE:"
   ]
  },
  {
   "cell_type": "markdown",
   "id": "388aaa92",
   "metadata": {
    "papermill": {
     "duration": 0.058251,
     "end_time": "2021-10-11T13:24:49.230867",
     "exception": false,
     "start_time": "2021-10-11T13:24:49.172616",
     "status": "completed"
    },
    "tags": []
   },
   "source": [
    "* **11 features:**"
   ]
  },
  {
   "cell_type": "code",
   "execution_count": 13,
   "id": "090ed935",
   "metadata": {
    "execution": {
     "iopub.execute_input": "2021-10-11T13:24:49.359761Z",
     "iopub.status.busy": "2021-10-11T13:24:49.358760Z",
     "iopub.status.idle": "2021-10-11T13:25:41.813129Z",
     "shell.execute_reply": "2021-10-11T13:25:41.813630Z",
     "shell.execute_reply.started": "2021-10-10T16:48:25.997674Z"
    },
    "papermill": {
     "duration": 52.524099,
     "end_time": "2021-10-11T13:25:41.813801",
     "exception": false,
     "start_time": "2021-10-11T13:24:49.289702",
     "status": "completed"
    },
    "tags": []
   },
   "outputs": [
    {
     "name": "stdout",
     "output_type": "stream",
     "text": [
      "ROC AUC with 11 features: 0.847 (0.010)\n"
     ]
    }
   ],
   "source": [
    "# Initialize and create pipeline\n",
    "rfe_11ftrs = RFE(estimator=RandomForestClassifier(random_state=11), n_features_to_select=11)\n",
    "over = RandomOverSampler(random_state=11)\n",
    "scaler = StandardScaler()\n",
    "model = RandomForestClassifier(random_state=11)\n",
    "pipeline_11ftrs = imbpipeline(steps = [['over', over],\n",
    "                                        ['scaler', scaler],\n",
    "                                        ['rfe', rfe_11ftrs],      \n",
    "                                        ['classifier', model]])\n",
    "# evaluate model\n",
    "cv = RepeatedStratifiedKFold(n_splits=5, n_repeats=3, random_state=11)\n",
    "n_scores_11ftrs = cross_val_score(pipeline_11ftrs, X_train_1, y_train_1, scoring='roc_auc', cv=cv, n_jobs=-1, error_score='raise')\n",
    "# report performance\n",
    "print('ROC AUC with 11 features: %.3f (%.3f)' % (mean(n_scores_11ftrs), std(n_scores_11ftrs)))"
   ]
  },
  {
   "cell_type": "code",
   "execution_count": 14,
   "id": "ce7cdfcd",
   "metadata": {
    "execution": {
     "iopub.execute_input": "2021-10-11T13:25:41.938588Z",
     "iopub.status.busy": "2021-10-11T13:25:41.937550Z",
     "iopub.status.idle": "2021-10-11T13:25:53.013908Z",
     "shell.execute_reply": "2021-10-11T13:25:53.014478Z",
     "shell.execute_reply.started": "2021-10-10T16:49:17.636297Z"
    },
    "papermill": {
     "duration": 11.142797,
     "end_time": "2021-10-11T13:25:53.014657",
     "exception": false,
     "start_time": "2021-10-11T13:25:41.871860",
     "status": "completed"
    },
    "tags": []
   },
   "outputs": [
    {
     "data": {
      "text/html": [
       "<div>\n",
       "<style scoped>\n",
       "    .dataframe tbody tr th:only-of-type {\n",
       "        vertical-align: middle;\n",
       "    }\n",
       "\n",
       "    .dataframe tbody tr th {\n",
       "        vertical-align: top;\n",
       "    }\n",
       "\n",
       "    .dataframe thead th {\n",
       "        text-align: right;\n",
       "    }\n",
       "</style>\n",
       "<table border=\"1\" class=\"dataframe\">\n",
       "  <thead>\n",
       "    <tr style=\"text-align: right;\">\n",
       "      <th></th>\n",
       "      <th>Rank</th>\n",
       "    </tr>\n",
       "  </thead>\n",
       "  <tbody>\n",
       "    <tr>\n",
       "      <th>CreditScore</th>\n",
       "      <td>True</td>\n",
       "    </tr>\n",
       "    <tr>\n",
       "      <th>Tenure</th>\n",
       "      <td>True</td>\n",
       "    </tr>\n",
       "    <tr>\n",
       "      <th>Balance</th>\n",
       "      <td>True</td>\n",
       "    </tr>\n",
       "    <tr>\n",
       "      <th>NumOfProducts</th>\n",
       "      <td>True</td>\n",
       "    </tr>\n",
       "    <tr>\n",
       "      <th>HasCrCard</th>\n",
       "      <td>False</td>\n",
       "    </tr>\n",
       "    <tr>\n",
       "      <th>IsActiveMember</th>\n",
       "      <td>True</td>\n",
       "    </tr>\n",
       "    <tr>\n",
       "      <th>EstimatedSalary</th>\n",
       "      <td>True</td>\n",
       "    </tr>\n",
       "    <tr>\n",
       "      <th>ratio_CreditScore_Age</th>\n",
       "      <td>True</td>\n",
       "    </tr>\n",
       "    <tr>\n",
       "      <th>ratio_EstimatedSalary_Age</th>\n",
       "      <td>True</td>\n",
       "    </tr>\n",
       "    <tr>\n",
       "      <th>Age_BoxCox</th>\n",
       "      <td>True</td>\n",
       "    </tr>\n",
       "    <tr>\n",
       "      <th>Geography_France</th>\n",
       "      <td>False</td>\n",
       "    </tr>\n",
       "    <tr>\n",
       "      <th>Geography_Germany</th>\n",
       "      <td>True</td>\n",
       "    </tr>\n",
       "    <tr>\n",
       "      <th>Geography_Spain</th>\n",
       "      <td>False</td>\n",
       "    </tr>\n",
       "    <tr>\n",
       "      <th>Gender_Female</th>\n",
       "      <td>False</td>\n",
       "    </tr>\n",
       "    <tr>\n",
       "      <th>Gender_Male</th>\n",
       "      <td>True</td>\n",
       "    </tr>\n",
       "  </tbody>\n",
       "</table>\n",
       "</div>"
      ],
      "text/plain": [
       "                            Rank\n",
       "CreditScore                 True\n",
       "Tenure                      True\n",
       "Balance                     True\n",
       "NumOfProducts               True\n",
       "HasCrCard                  False\n",
       "IsActiveMember              True\n",
       "EstimatedSalary             True\n",
       "ratio_CreditScore_Age       True\n",
       "ratio_EstimatedSalary_Age   True\n",
       "Age_BoxCox                  True\n",
       "Geography_France           False\n",
       "Geography_Germany           True\n",
       "Geography_Spain            False\n",
       "Gender_Female              False\n",
       "Gender_Male                 True"
      ]
     },
     "execution_count": 14,
     "metadata": {},
     "output_type": "execute_result"
    }
   ],
   "source": [
    "pipeline_11ftrs.fit(X_train_1, y_train_1)\n",
    "df_rfe = pd.DataFrame(rfe_11ftrs.support_, index=X_train_1.columns, columns=['Rank'])\n",
    "df_rfe"
   ]
  },
  {
   "cell_type": "markdown",
   "id": "02b784da",
   "metadata": {
    "papermill": {
     "duration": 0.059292,
     "end_time": "2021-10-11T13:25:53.133041",
     "exception": false,
     "start_time": "2021-10-11T13:25:53.073749",
     "status": "completed"
    },
    "tags": []
   },
   "source": [
    "With 11 features the least important ones are 'Gender_Female', 'Geography_Spain', 'Geography_France' and 'HasCreditCard'."
   ]
  },
  {
   "cell_type": "markdown",
   "id": "45468b75",
   "metadata": {
    "papermill": {
     "duration": 0.058881,
     "end_time": "2021-10-11T13:25:53.251101",
     "exception": false,
     "start_time": "2021-10-11T13:25:53.192220",
     "status": "completed"
    },
    "tags": []
   },
   "source": [
    "* **12 features:**"
   ]
  },
  {
   "cell_type": "code",
   "execution_count": 15,
   "id": "7485b5fa",
   "metadata": {
    "execution": {
     "iopub.execute_input": "2021-10-11T13:25:53.380632Z",
     "iopub.status.busy": "2021-10-11T13:25:53.379576Z",
     "iopub.status.idle": "2021-10-11T13:26:36.358476Z",
     "shell.execute_reply": "2021-10-11T13:26:36.359229Z",
     "shell.execute_reply.started": "2021-10-10T16:49:28.721828Z"
    },
    "papermill": {
     "duration": 43.04824,
     "end_time": "2021-10-11T13:26:36.359466",
     "exception": false,
     "start_time": "2021-10-11T13:25:53.311226",
     "status": "completed"
    },
    "tags": []
   },
   "outputs": [
    {
     "name": "stdout",
     "output_type": "stream",
     "text": [
      "ROC AUC with 12 features: 0.847 (0.011)\n"
     ]
    }
   ],
   "source": [
    "# Initialize and create pipeline\n",
    "rfe_12ftrs = RFE(estimator=RandomForestClassifier(random_state=11), n_features_to_select=12)\n",
    "over = RandomOverSampler(random_state=11)\n",
    "scaler = StandardScaler()\n",
    "model = RandomForestClassifier(random_state=11)\n",
    "pipeline_12ftrs = imbpipeline(steps = [['over', over],\n",
    "                                        ['scaler', scaler],\n",
    "                                        ['rfe', rfe_12ftrs],      \n",
    "                                        ['classifier', model]])\n",
    "# evaluate model\n",
    "cv = RepeatedStratifiedKFold(n_splits=5, n_repeats=3, random_state=11)\n",
    "n_scores_12ftrs = cross_val_score(pipeline_12ftrs, X_train_1, y_train_1, scoring='roc_auc', cv=cv, n_jobs=-1, error_score='raise')\n",
    "# report performance\n",
    "print('ROC AUC with 12 features: %.3f (%.3f)' % (mean(n_scores_12ftrs), std(n_scores_12ftrs)))"
   ]
  },
  {
   "cell_type": "code",
   "execution_count": 16,
   "id": "442dd5b5",
   "metadata": {
    "execution": {
     "iopub.execute_input": "2021-10-11T13:26:36.483874Z",
     "iopub.status.busy": "2021-10-11T13:26:36.483219Z",
     "iopub.status.idle": "2021-10-11T13:26:45.553876Z",
     "shell.execute_reply": "2021-10-11T13:26:45.554391Z",
     "shell.execute_reply.started": "2021-10-10T16:50:11.254641Z"
    },
    "papermill": {
     "duration": 9.135304,
     "end_time": "2021-10-11T13:26:45.554554",
     "exception": false,
     "start_time": "2021-10-11T13:26:36.419250",
     "status": "completed"
    },
    "tags": []
   },
   "outputs": [
    {
     "data": {
      "text/html": [
       "<div>\n",
       "<style scoped>\n",
       "    .dataframe tbody tr th:only-of-type {\n",
       "        vertical-align: middle;\n",
       "    }\n",
       "\n",
       "    .dataframe tbody tr th {\n",
       "        vertical-align: top;\n",
       "    }\n",
       "\n",
       "    .dataframe thead th {\n",
       "        text-align: right;\n",
       "    }\n",
       "</style>\n",
       "<table border=\"1\" class=\"dataframe\">\n",
       "  <thead>\n",
       "    <tr style=\"text-align: right;\">\n",
       "      <th></th>\n",
       "      <th>Rank</th>\n",
       "    </tr>\n",
       "  </thead>\n",
       "  <tbody>\n",
       "    <tr>\n",
       "      <th>CreditScore</th>\n",
       "      <td>True</td>\n",
       "    </tr>\n",
       "    <tr>\n",
       "      <th>Tenure</th>\n",
       "      <td>True</td>\n",
       "    </tr>\n",
       "    <tr>\n",
       "      <th>Balance</th>\n",
       "      <td>True</td>\n",
       "    </tr>\n",
       "    <tr>\n",
       "      <th>NumOfProducts</th>\n",
       "      <td>True</td>\n",
       "    </tr>\n",
       "    <tr>\n",
       "      <th>HasCrCard</th>\n",
       "      <td>True</td>\n",
       "    </tr>\n",
       "    <tr>\n",
       "      <th>IsActiveMember</th>\n",
       "      <td>True</td>\n",
       "    </tr>\n",
       "    <tr>\n",
       "      <th>EstimatedSalary</th>\n",
       "      <td>True</td>\n",
       "    </tr>\n",
       "    <tr>\n",
       "      <th>ratio_CreditScore_Age</th>\n",
       "      <td>True</td>\n",
       "    </tr>\n",
       "    <tr>\n",
       "      <th>ratio_EstimatedSalary_Age</th>\n",
       "      <td>True</td>\n",
       "    </tr>\n",
       "    <tr>\n",
       "      <th>Age_BoxCox</th>\n",
       "      <td>True</td>\n",
       "    </tr>\n",
       "    <tr>\n",
       "      <th>Geography_France</th>\n",
       "      <td>False</td>\n",
       "    </tr>\n",
       "    <tr>\n",
       "      <th>Geography_Germany</th>\n",
       "      <td>True</td>\n",
       "    </tr>\n",
       "    <tr>\n",
       "      <th>Geography_Spain</th>\n",
       "      <td>False</td>\n",
       "    </tr>\n",
       "    <tr>\n",
       "      <th>Gender_Female</th>\n",
       "      <td>False</td>\n",
       "    </tr>\n",
       "    <tr>\n",
       "      <th>Gender_Male</th>\n",
       "      <td>True</td>\n",
       "    </tr>\n",
       "  </tbody>\n",
       "</table>\n",
       "</div>"
      ],
      "text/plain": [
       "                            Rank\n",
       "CreditScore                 True\n",
       "Tenure                      True\n",
       "Balance                     True\n",
       "NumOfProducts               True\n",
       "HasCrCard                   True\n",
       "IsActiveMember              True\n",
       "EstimatedSalary             True\n",
       "ratio_CreditScore_Age       True\n",
       "ratio_EstimatedSalary_Age   True\n",
       "Age_BoxCox                  True\n",
       "Geography_France           False\n",
       "Geography_Germany           True\n",
       "Geography_Spain            False\n",
       "Gender_Female              False\n",
       "Gender_Male                 True"
      ]
     },
     "execution_count": 16,
     "metadata": {},
     "output_type": "execute_result"
    }
   ],
   "source": [
    "pipeline_12ftrs.fit(X_train_1, y_train_1)\n",
    "pd.DataFrame(rfe_12ftrs.support_, index=X_train_1.columns, columns=['Rank'])"
   ]
  },
  {
   "cell_type": "markdown",
   "id": "b19226f8",
   "metadata": {
    "execution": {
     "iopub.execute_input": "2021-10-03T04:17:41.782566Z",
     "iopub.status.busy": "2021-10-03T04:17:41.781687Z",
     "iopub.status.idle": "2021-10-03T04:17:41.846048Z",
     "shell.execute_reply": "2021-10-03T04:17:41.845415Z",
     "shell.execute_reply.started": "2021-10-03T04:17:41.782524Z"
    },
    "papermill": {
     "duration": 0.059337,
     "end_time": "2021-10-11T13:26:45.726676",
     "exception": false,
     "start_time": "2021-10-11T13:26:45.667339",
     "status": "completed"
    },
    "tags": []
   },
   "source": [
    "With 12 features the least important ones are 'Gender_Female', 'Geography_Spain' and 'Geography_France'."
   ]
  },
  {
   "cell_type": "markdown",
   "id": "ac0961d3",
   "metadata": {
    "papermill": {
     "duration": 0.05999,
     "end_time": "2021-10-11T13:26:45.846286",
     "exception": false,
     "start_time": "2021-10-11T13:26:45.786296",
     "status": "completed"
    },
    "tags": []
   },
   "source": [
    "### RFE Conclusions"
   ]
  },
  {
   "cell_type": "markdown",
   "id": "25c34d63",
   "metadata": {
    "papermill": {
     "duration": 0.061192,
     "end_time": "2021-10-11T13:26:45.967751",
     "exception": false,
     "start_time": "2021-10-11T13:26:45.906559",
     "status": "completed"
    },
    "tags": []
   },
   "source": [
    "We can see that the results are consistent with the EDA and modeling from the 1st iteration notebook: Gender, Geography and HasCreditCard are the least important features. The only (relatively) important feature among these is 'Geography_Germany', which we saw in the EDA from the other notebook that had a much larger churning rate than the mean.\n",
    "\n",
    "This should not be surprising. The last part from the previous notebook shows the feature importances of the RF Classifier, which is basically the RFE technique we are applying here."
   ]
  },
  {
   "cell_type": "markdown",
   "id": "9dad8ffc",
   "metadata": {
    "papermill": {
     "duration": 0.060491,
     "end_time": "2021-10-11T13:26:46.089903",
     "exception": false,
     "start_time": "2021-10-11T13:26:46.029412",
     "status": "completed"
    },
    "tags": []
   },
   "source": [
    "I will use the model with 11 features as the final one for this technique.\n",
    "\n",
    "**RFE Best Score: ROC-AUC=0,847**\n",
    "\n",
    "This is slighlty better than the Base Model"
   ]
  },
  {
   "cell_type": "markdown",
   "id": "54478be6",
   "metadata": {
    "papermill": {
     "duration": 0.059254,
     "end_time": "2021-10-11T13:26:46.208722",
     "exception": false,
     "start_time": "2021-10-11T13:26:46.149468",
     "status": "completed"
    },
    "tags": []
   },
   "source": [
    "## 2. PCA"
   ]
  },
  {
   "cell_type": "markdown",
   "id": "68ccb1f0",
   "metadata": {
    "papermill": {
     "duration": 0.059241,
     "end_time": "2021-10-11T13:26:46.327442",
     "exception": false,
     "start_time": "2021-10-11T13:26:46.268201",
     "status": "completed"
    },
    "tags": []
   },
   "source": [
    "I will use PCA as a dimensionality reduction technique and then train the obtained PCs with the base Random Forests Classifier.\n",
    "\n",
    "I don't think this technique will have much impact, because PCA is benefitial in the following situations:\n",
    "* When multi-colinearity exists between the features/variables.\n",
    "* When the dimensions of the input features are high (e.g. a lot of variables).\n",
    "* When there is noisy data.\n",
    "Seeing the EDA done in my previous notebook of this dataset, there is not much multi-colinearity between features. Also, even with the 2 created features the dimension k=15 is small and much smaller than the number of training instances N=8000 (After train-test split). And finally, although there could be some noise, I don't think the dataset is particularly noisy.\n",
    "\n",
    "Let's try and see how does PCA affect the final score."
   ]
  },
  {
   "cell_type": "code",
   "execution_count": 17,
   "id": "87a8115d",
   "metadata": {
    "execution": {
     "iopub.execute_input": "2021-10-11T13:26:46.450390Z",
     "iopub.status.busy": "2021-10-11T13:26:46.449157Z",
     "iopub.status.idle": "2021-10-11T13:26:46.452246Z",
     "shell.execute_reply": "2021-10-11T13:26:46.452675Z",
     "shell.execute_reply.started": "2021-10-10T16:50:20.272571Z"
    },
    "papermill": {
     "duration": 0.066096,
     "end_time": "2021-10-11T13:26:46.452865",
     "exception": false,
     "start_time": "2021-10-11T13:26:46.386769",
     "status": "completed"
    },
    "tags": []
   },
   "outputs": [],
   "source": [
    "X_train_2 = X_train\n",
    "y_train_2 = y_train"
   ]
  },
  {
   "cell_type": "code",
   "execution_count": 18,
   "id": "5e01b9f2",
   "metadata": {
    "execution": {
     "iopub.execute_input": "2021-10-11T13:26:46.582019Z",
     "iopub.status.busy": "2021-10-11T13:26:46.576342Z",
     "iopub.status.idle": "2021-10-11T13:26:46.584854Z",
     "shell.execute_reply": "2021-10-11T13:26:46.584220Z",
     "shell.execute_reply.started": "2021-10-10T16:50:20.278173Z"
    },
    "papermill": {
     "duration": 0.072572,
     "end_time": "2021-10-11T13:26:46.585010",
     "exception": false,
     "start_time": "2021-10-11T13:26:46.512438",
     "status": "completed"
    },
    "tags": []
   },
   "outputs": [],
   "source": [
    "# get a list of models to evaluate, from 2 to 15 PCs\n",
    "def get_models():\n",
    "    models = dict()\n",
    "    for i in range(1,16):\n",
    "        over = RandomOverSampler(random_state=11)\n",
    "        scaler = StandardScaler()\n",
    "        pca = PCA(n_components=i)\n",
    "        model = RandomForestClassifier(random_state=11)\n",
    "        steps = [['over', over], ['scaler', scaler], ['pca', pca], ['classifier', model]]\n",
    "        models[str(i)] = imbpipeline(steps=steps)\n",
    "    return models\n",
    "\n",
    "# evaluate a given model using cross-validation\n",
    "def evaluate_model(model, X, y):\n",
    "    cv = RepeatedStratifiedKFold(n_splits=5, n_repeats=3, random_state=11)\n",
    "    scores = cross_val_score(model, X, y, scoring='roc_auc', cv=cv, n_jobs=-1, error_score='raise')\n",
    "    return scores"
   ]
  },
  {
   "cell_type": "code",
   "execution_count": 19,
   "id": "ce20b061",
   "metadata": {
    "execution": {
     "iopub.execute_input": "2021-10-11T13:26:46.709165Z",
     "iopub.status.busy": "2021-10-11T13:26:46.708157Z",
     "iopub.status.idle": "2021-10-11T13:30:04.086665Z",
     "shell.execute_reply": "2021-10-11T13:30:04.086050Z",
     "shell.execute_reply.started": "2021-10-10T16:50:20.293441Z"
    },
    "papermill": {
     "duration": 197.441931,
     "end_time": "2021-10-11T13:30:04.086821",
     "exception": false,
     "start_time": "2021-10-11T13:26:46.644890",
     "status": "completed"
    },
    "tags": []
   },
   "outputs": [
    {
     "name": "stdout",
     "output_type": "stream",
     "text": [
      ">1 0.589 (0.017)\n",
      ">2 0.675 (0.014)\n",
      ">3 0.737 (0.017)\n",
      ">4 0.733 (0.015)\n",
      ">5 0.755 (0.016)\n",
      ">6 0.767 (0.017)\n",
      ">7 0.788 (0.013)\n",
      ">8 0.802 (0.011)\n",
      ">9 0.808 (0.011)\n",
      ">10 0.815 (0.012)\n",
      ">11 0.833 (0.011)\n",
      ">12 0.834 (0.009)\n",
      ">13 0.834 (0.011)\n",
      ">14 0.835 (0.010)\n",
      ">15 0.836 (0.010)\n"
     ]
    },
    {
     "data": {
      "image/png": "[encoded data removed]",
      "text/plain": [
       "<Figure size 432x288 with 1 Axes>"
      ]
     },
     "metadata": {
      "needs_background": "light"
     },
     "output_type": "display_data"
    }
   ],
   "source": [
    "# get the models to evaluate\n",
    "models = get_models()\n",
    "\n",
    "# evaluate the models and store results\n",
    "results, names = list(), list()\n",
    "for name, model in models.items():\n",
    "    scores = evaluate_model(model, X_train_2, y_train_2)\n",
    "    results.append(scores)\n",
    "    names.append(name)\n",
    "    print('>%s %.3f (%.3f)' % (name, mean(scores), std(scores)))\n",
    "    \n",
    "# plot model performance for comparison\n",
    "pyplot.boxplot(results, labels=names, showmeans=True)\n",
    "pyplot.xticks(rotation=45)\n",
    "pyplot.show()"
   ]
  },
  {
   "cell_type": "markdown",
   "id": "0fff43e7",
   "metadata": {
    "papermill": {
     "duration": 0.064741,
     "end_time": "2021-10-11T13:30:04.219422",
     "exception": false,
     "start_time": "2021-10-11T13:30:04.154681",
     "status": "completed"
    },
    "tags": []
   },
   "source": [
    "There is not much improvement after 11 PCs so I'll keep that number. This way, we reduce the number of features from 15 to 11."
   ]
  },
  {
   "cell_type": "markdown",
   "id": "c637c873",
   "metadata": {
    "papermill": {
     "duration": 0.064645,
     "end_time": "2021-10-11T13:30:04.349257",
     "exception": false,
     "start_time": "2021-10-11T13:30:04.284612",
     "status": "completed"
    },
    "tags": []
   },
   "source": [
    "* **11 Principal Components:**"
   ]
  },
  {
   "cell_type": "code",
   "execution_count": 20,
   "id": "9199ac43",
   "metadata": {
    "execution": {
     "iopub.execute_input": "2021-10-11T13:30:04.488339Z",
     "iopub.status.busy": "2021-10-11T13:30:04.487581Z",
     "iopub.status.idle": "2021-10-11T13:30:20.864032Z",
     "shell.execute_reply": "2021-10-11T13:30:20.863487Z",
     "shell.execute_reply.started": "2021-10-10T16:53:37.767228Z"
    },
    "papermill": {
     "duration": 16.449842,
     "end_time": "2021-10-11T13:30:20.864190",
     "exception": false,
     "start_time": "2021-10-11T13:30:04.414348",
     "status": "completed"
    },
    "tags": []
   },
   "outputs": [
    {
     "name": "stdout",
     "output_type": "stream",
     "text": [
      "ROC AUC with 11 Principal Components: 0.833 (0.011)\n"
     ]
    }
   ],
   "source": [
    "# Initialize and create pipeline\n",
    "pca_11pc = PCA(n_components=11)\n",
    "over = RandomOverSampler(random_state=11)\n",
    "scaler = StandardScaler()\n",
    "model = RandomForestClassifier(random_state=11)\n",
    "pipeline_11pc = imbpipeline(steps = [['over', over],\n",
    "                                        ['scaler', scaler],\n",
    "                                        ['pca', pca_11pc],      \n",
    "                                        ['classifier', model]])\n",
    "# evaluate model\n",
    "cv = RepeatedStratifiedKFold(n_splits=5, n_repeats=3, random_state=11)\n",
    "n_scores_11pc = cross_val_score(pipeline_11pc, X_train_2, y_train_2, scoring='roc_auc', cv=cv, n_jobs=-1, error_score='raise')\n",
    "# report performance\n",
    "print('ROC AUC with 11 Principal Components: %.3f (%.3f)' % (mean(n_scores_11pc), std(n_scores_11pc)))"
   ]
  },
  {
   "cell_type": "markdown",
   "id": "aee7fdd5",
   "metadata": {
    "papermill": {
     "duration": 0.066111,
     "end_time": "2021-10-11T13:30:20.995411",
     "exception": false,
     "start_time": "2021-10-11T13:30:20.929300",
     "status": "completed"
    },
    "tags": []
   },
   "source": [
    "We can see that PCA performs worse than both the base model and RFE. This is most likely due to the facts we previously mentioned about this dataset.\n",
    "\n",
    "**PCA Best Score: ROC-AUC=0,833**"
   ]
  },
  {
   "cell_type": "markdown",
   "id": "5926178c",
   "metadata": {
    "papermill": {
     "duration": 0.065647,
     "end_time": "2021-10-11T13:30:21.126490",
     "exception": false,
     "start_time": "2021-10-11T13:30:21.060843",
     "status": "completed"
    },
    "tags": []
   },
   "source": [
    "## 3. Lasso"
   ]
  },
  {
   "cell_type": "markdown",
   "id": "8005df32",
   "metadata": {
    "papermill": {
     "duration": 0.064682,
     "end_time": "2021-10-11T13:30:21.256458",
     "exception": false,
     "start_time": "2021-10-11T13:30:21.191776",
     "status": "completed"
    },
    "tags": []
   },
   "source": [
    "I will use Lasso as a Feature Selection and then train the obtained non-zero features with the base Random Forests Classifier. \n",
    "\n",
    "* I will tune the alpha hyperparameter to see how does the score vary with the number of features in the model."
   ]
  },
  {
   "cell_type": "code",
   "execution_count": 21,
   "id": "6d1219fe",
   "metadata": {
    "execution": {
     "iopub.execute_input": "2021-10-11T13:30:21.390722Z",
     "iopub.status.busy": "2021-10-11T13:30:21.389722Z",
     "iopub.status.idle": "2021-10-11T13:30:21.393577Z",
     "shell.execute_reply": "2021-10-11T13:30:21.394178Z",
     "shell.execute_reply.started": "2021-10-10T16:53:54.244267Z"
    },
    "papermill": {
     "duration": 0.072605,
     "end_time": "2021-10-11T13:30:21.394360",
     "exception": false,
     "start_time": "2021-10-11T13:30:21.321755",
     "status": "completed"
    },
    "tags": []
   },
   "outputs": [],
   "source": [
    "X_train_3 = X_train\n",
    "y_train_3 = y_train"
   ]
  },
  {
   "cell_type": "code",
   "execution_count": 22,
   "id": "ef97c885",
   "metadata": {
    "execution": {
     "iopub.execute_input": "2021-10-11T13:30:21.529065Z",
     "iopub.status.busy": "2021-10-11T13:30:21.528117Z",
     "iopub.status.idle": "2021-10-11T13:30:21.535174Z",
     "shell.execute_reply": "2021-10-11T13:30:21.534584Z",
     "shell.execute_reply.started": "2021-10-10T16:53:54.250056Z"
    },
    "papermill": {
     "duration": 0.075233,
     "end_time": "2021-10-11T13:30:21.535315",
     "exception": false,
     "start_time": "2021-10-11T13:30:21.460082",
     "status": "completed"
    },
    "tags": []
   },
   "outputs": [],
   "source": [
    "over = RandomOverSampler(random_state=11)\n",
    "scaler = StandardScaler()\n",
    "model = Lasso(random_state=11)\n",
    "\n",
    "pipeline = imbpipeline(steps = [['over', over],\n",
    "                                ['scaler', scaler],      \n",
    "                                ['model', model]])\n",
    "\n",
    "search = GridSearchCV(pipeline,\n",
    "                      {'model__alpha':np.arange(0.001,0.1,0.001)},\n",
    "                      cv = 5, scoring=\"roc_auc\",verbose=3\n",
    "                      )"
   ]
  },
  {
   "cell_type": "code",
   "execution_count": 23,
   "id": "ebab7149",
   "metadata": {
    "execution": {
     "iopub.execute_input": "2021-10-11T13:30:21.674426Z",
     "iopub.status.busy": "2021-10-11T13:30:21.673722Z",
     "iopub.status.idle": "2021-10-11T13:30:45.387913Z",
     "shell.execute_reply": "2021-10-11T13:30:45.386871Z",
     "shell.execute_reply.started": "2021-10-10T16:53:54.265611Z"
    },
    "papermill": {
     "duration": 23.786802,
     "end_time": "2021-10-11T13:30:45.388170",
     "exception": false,
     "start_time": "2021-10-11T13:30:21.601368",
     "status": "completed"
    },
    "scrolled": true,
    "tags": []
   },
   "outputs": [
    {
     "name": "stdout",
     "output_type": "stream",
     "text": [
      "Fitting 5 folds for each of 99 candidates, totalling 495 fits\n",
      "[CV] model__alpha=0.001 ..............................................\n",
      "[CV] .................. model__alpha=0.001, score=0.758, total=   0.0s\n",
      "[CV] model__alpha=0.001 ..............................................\n",
      "[CV] .................. model__alpha=0.001, score=0.787, total=   0.1s\n",
      "[CV] model__alpha=0.001 ..............................................\n",
      "[CV] .................. model__alpha=0.001, score=0.768, total=   0.1s\n",
      "[CV] model__alpha=0.001 ..............................................\n"
     ]
    },
    {
     "name": "stderr",
     "output_type": "stream",
     "text": [
      "[Parallel(n_jobs=1)]: Using backend SequentialBackend with 1 concurrent workers.\n",
      "[Parallel(n_jobs=1)]: Done   1 out of   1 | elapsed:    0.0s remaining:    0.0s\n",
      "[Parallel(n_jobs=1)]: Done   2 out of   2 | elapsed:    0.1s remaining:    0.0s\n"
     ]
    },
    {
     "name": "stdout",
     "output_type": "stream",
     "text": [
      "[CV] .................. model__alpha=0.001, score=0.753, total=   0.1s\n",
      "[CV] model__alpha=0.001 ..............................................\n",
      "[CV] .................. model__alpha=0.001, score=0.790, total=   0.1s\n",
      "[CV] model__alpha=0.002 ..............................................\n",
      "[CV] .................. model__alpha=0.002, score=0.759, total=   0.0s\n",
      "[CV] model__alpha=0.002 ..............................................\n",
      "[CV] .................. model__alpha=0.002, score=0.788, total=   0.0s\n",
      "[CV] model__alpha=0.002 ..............................................\n",
      "[CV] .................. model__alpha=0.002, score=0.768, total=   0.1s\n",
      "[CV] model__alpha=0.002 ..............................................\n",
      "[CV] .................. model__alpha=0.002, score=0.753, total=   0.0s\n",
      "[CV] model__alpha=0.002 ..............................................\n",
      "[CV] .................. model__alpha=0.002, score=0.790, total=   0.0s\n",
      "[CV] model__alpha=0.003 ..............................................\n",
      "[CV] .................. model__alpha=0.003, score=0.759, total=   0.0s\n",
      "[CV] model__alpha=0.003 ..............................................\n",
      "[CV] .................. model__alpha=0.003, score=0.788, total=   0.1s\n",
      "[CV] model__alpha=0.003 ..............................................\n",
      "[CV] .................. model__alpha=0.003, score=0.768, total=   0.0s\n",
      "[CV] model__alpha=0.003 ..............................................\n",
      "[CV] .................. model__alpha=0.003, score=0.753, total=   0.0s\n",
      "[CV] model__alpha=0.003 ..............................................\n",
      "[CV] .................. model__alpha=0.003, score=0.790, total=   0.0s\n",
      "[CV] model__alpha=0.004 ..............................................\n",
      "[CV] .................. model__alpha=0.004, score=0.759, total=   0.0s\n",
      "[CV] model__alpha=0.004 ..............................................\n",
      "[CV] .................. model__alpha=0.004, score=0.788, total=   0.1s\n",
      "[CV] model__alpha=0.004 ..............................................\n",
      "[CV] .................. model__alpha=0.004, score=0.769, total=   0.0s\n",
      "[CV] model__alpha=0.004 ..............................................\n",
      "[CV] .................. model__alpha=0.004, score=0.753, total=   0.0s\n",
      "[CV] model__alpha=0.004 ..............................................\n",
      "[CV] .................. model__alpha=0.004, score=0.790, total=   0.1s\n",
      "[CV] model__alpha=0.005 ..............................................\n",
      "[CV] .................. model__alpha=0.005, score=0.759, total=   0.1s\n",
      "[CV] model__alpha=0.005 ..............................................\n",
      "[CV] .................. model__alpha=0.005, score=0.788, total=   0.0s\n",
      "[CV] model__alpha=0.005 ..............................................\n",
      "[CV] .................. model__alpha=0.005, score=0.769, total=   0.0s\n",
      "[CV] model__alpha=0.005 ..............................................\n",
      "[CV] .................. model__alpha=0.005, score=0.754, total=   0.0s\n",
      "[CV] model__alpha=0.005 ..............................................\n",
      "[CV] .................. model__alpha=0.005, score=0.790, total=   0.1s\n",
      "[CV] model__alpha=0.006 ..............................................\n",
      "[CV] .................. model__alpha=0.006, score=0.759, total=   0.1s\n",
      "[CV] model__alpha=0.006 ..............................................\n",
      "[CV] .................. model__alpha=0.006, score=0.788, total=   0.1s\n",
      "[CV] model__alpha=0.006 ..............................................\n",
      "[CV] .................. model__alpha=0.006, score=0.769, total=   0.0s\n",
      "[CV] model__alpha=0.006 ..............................................\n",
      "[CV] .................. model__alpha=0.006, score=0.754, total=   0.1s\n",
      "[CV] model__alpha=0.006 ..............................................\n",
      "[CV] .................. model__alpha=0.006, score=0.790, total=   0.0s\n",
      "[CV] model__alpha=0.007 ..............................................\n",
      "[CV] .................. model__alpha=0.007, score=0.760, total=   0.1s\n",
      "[CV] model__alpha=0.007 ..............................................\n",
      "[CV] .................. model__alpha=0.007, score=0.788, total=   0.1s\n",
      "[CV] model__alpha=0.007 ..............................................\n",
      "[CV] .................. model__alpha=0.007, score=0.769, total=   0.0s\n",
      "[CV] model__alpha=0.007 ..............................................\n",
      "[CV] .................. model__alpha=0.007, score=0.754, total=   0.0s\n",
      "[CV] model__alpha=0.007 ..............................................\n",
      "[CV] .................. model__alpha=0.007, score=0.790, total=   0.0s\n",
      "[CV] model__alpha=0.008 ..............................................\n",
      "[CV] .................. model__alpha=0.008, score=0.760, total=   0.1s\n",
      "[CV] model__alpha=0.008 ..............................................\n",
      "[CV] .................. model__alpha=0.008, score=0.788, total=   0.1s\n",
      "[CV] model__alpha=0.008 ..............................................\n",
      "[CV] .................. model__alpha=0.008, score=0.769, total=   0.0s\n",
      "[CV] model__alpha=0.008 ..............................................\n",
      "[CV] .................. model__alpha=0.008, score=0.754, total=   0.1s\n",
      "[CV] model__alpha=0.008 ..............................................\n",
      "[CV] .................. model__alpha=0.008, score=0.790, total=   0.1s\n",
      "[CV] model__alpha=0.009000000000000001 ...............................\n",
      "[CV] ... model__alpha=0.009000000000000001, score=0.760, total=   0.0s\n",
      "[CV] model__alpha=0.009000000000000001 ...............................\n",
      "[CV] ... model__alpha=0.009000000000000001, score=0.788, total=   0.1s\n",
      "[CV] model__alpha=0.009000000000000001 ...............................\n",
      "[CV] ... model__alpha=0.009000000000000001, score=0.769, total=   0.0s\n",
      "[CV] model__alpha=0.009000000000000001 ...............................\n",
      "[CV] ... model__alpha=0.009000000000000001, score=0.754, total=   0.1s\n",
      "[CV] model__alpha=0.009000000000000001 ...............................\n",
      "[CV] ... model__alpha=0.009000000000000001, score=0.790, total=   0.1s\n",
      "[CV] model__alpha=0.010000000000000002 ...............................\n",
      "[CV] ... model__alpha=0.010000000000000002, score=0.760, total=   0.0s\n",
      "[CV] model__alpha=0.010000000000000002 ...............................\n",
      "[CV] ... model__alpha=0.010000000000000002, score=0.788, total=   0.0s\n",
      "[CV] model__alpha=0.010000000000000002 ...............................\n",
      "[CV] ... model__alpha=0.010000000000000002, score=0.769, total=   0.0s\n",
      "[CV] model__alpha=0.010000000000000002 ...............................\n",
      "[CV] ... model__alpha=0.010000000000000002, score=0.754, total=   0.0s\n",
      "[CV] model__alpha=0.010000000000000002 ...............................\n",
      "[CV] ... model__alpha=0.010000000000000002, score=0.789, total=   0.1s\n",
      "[CV] model__alpha=0.011 ..............................................\n",
      "[CV] .................. model__alpha=0.011, score=0.760, total=   0.0s\n",
      "[CV] model__alpha=0.011 ..............................................\n",
      "[CV] .................. model__alpha=0.011, score=0.788, total=   0.0s\n",
      "[CV] model__alpha=0.011 ..............................................\n",
      "[CV] .................. model__alpha=0.011, score=0.769, total=   0.1s\n",
      "[CV] model__alpha=0.011 ..............................................\n",
      "[CV] .................. model__alpha=0.011, score=0.754, total=   0.0s\n",
      "[CV] model__alpha=0.011 ..............................................\n",
      "[CV] .................. model__alpha=0.011, score=0.789, total=   0.0s\n",
      "[CV] model__alpha=0.012 ..............................................\n",
      "[CV] .................. model__alpha=0.012, score=0.761, total=   0.0s\n",
      "[CV] model__alpha=0.012 ..............................................\n",
      "[CV] .................. model__alpha=0.012, score=0.788, total=   0.0s\n",
      "[CV] model__alpha=0.012 ..............................................\n",
      "[CV] .................. model__alpha=0.012, score=0.769, total=   0.1s\n",
      "[CV] model__alpha=0.012 ..............................................\n",
      "[CV] .................. model__alpha=0.012, score=0.755, total=   0.0s\n",
      "[CV] model__alpha=0.012 ..............................................\n",
      "[CV] .................. model__alpha=0.012, score=0.789, total=   0.0s\n",
      "[CV] model__alpha=0.013000000000000001 ...............................\n",
      "[CV] ... model__alpha=0.013000000000000001, score=0.761, total=   0.1s\n",
      "[CV] model__alpha=0.013000000000000001 ...............................\n",
      "[CV] ... model__alpha=0.013000000000000001, score=0.788, total=   0.1s\n",
      "[CV] model__alpha=0.013000000000000001 ...............................\n",
      "[CV] ... model__alpha=0.013000000000000001, score=0.769, total=   0.1s\n",
      "[CV] model__alpha=0.013000000000000001 ...............................\n",
      "[CV] ... model__alpha=0.013000000000000001, score=0.755, total=   0.0s\n",
      "[CV] model__alpha=0.013000000000000001 ...............................\n",
      "[CV] ... model__alpha=0.013000000000000001, score=0.789, total=   0.0s\n",
      "[CV] model__alpha=0.014000000000000002 ...............................\n",
      "[CV] ... model__alpha=0.014000000000000002, score=0.761, total=   0.0s\n",
      "[CV] model__alpha=0.014000000000000002 ...............................\n",
      "[CV] ... model__alpha=0.014000000000000002, score=0.788, total=   0.0s\n",
      "[CV] model__alpha=0.014000000000000002 ...............................\n",
      "[CV] ... model__alpha=0.014000000000000002, score=0.769, total=   0.0s\n",
      "[CV] model__alpha=0.014000000000000002 ...............................\n",
      "[CV] ... model__alpha=0.014000000000000002, score=0.755, total=   0.0s\n",
      "[CV] model__alpha=0.014000000000000002 ...............................\n",
      "[CV] ... model__alpha=0.014000000000000002, score=0.789, total=   0.0s\n",
      "[CV] model__alpha=0.015 ..............................................\n",
      "[CV] .................. model__alpha=0.015, score=0.761, total=   0.0s\n",
      "[CV] model__alpha=0.015 ..............................................\n",
      "[CV] .................. model__alpha=0.015, score=0.788, total=   0.0s\n",
      "[CV] model__alpha=0.015 ..............................................\n",
      "[CV] .................. model__alpha=0.015, score=0.769, total=   0.0s\n",
      "[CV] model__alpha=0.015 ..............................................\n",
      "[CV] .................. model__alpha=0.015, score=0.755, total=   0.0s\n",
      "[CV] model__alpha=0.015 ..............................................\n",
      "[CV] .................. model__alpha=0.015, score=0.788, total=   0.0s\n",
      "[CV] model__alpha=0.016 ..............................................\n",
      "[CV] .................. model__alpha=0.016, score=0.761, total=   0.0s\n",
      "[CV] model__alpha=0.016 ..............................................\n",
      "[CV] .................. model__alpha=0.016, score=0.788, total=   0.0s\n",
      "[CV] model__alpha=0.016 ..............................................\n",
      "[CV] .................. model__alpha=0.016, score=0.769, total=   0.0s\n",
      "[CV] model__alpha=0.016 ..............................................\n",
      "[CV] .................. model__alpha=0.016, score=0.755, total=   0.0s\n",
      "[CV] model__alpha=0.016 ..............................................\n",
      "[CV] .................. model__alpha=0.016, score=0.788, total=   0.0s\n",
      "[CV] model__alpha=0.017 ..............................................\n",
      "[CV] .................. model__alpha=0.017, score=0.760, total=   0.0s\n",
      "[CV] model__alpha=0.017 ..............................................\n",
      "[CV] .................. model__alpha=0.017, score=0.788, total=   0.0s\n",
      "[CV] model__alpha=0.017 ..............................................\n",
      "[CV] .................. model__alpha=0.017, score=0.770, total=   0.0s\n",
      "[CV] model__alpha=0.017 ..............................................\n",
      "[CV] .................. model__alpha=0.017, score=0.755, total=   0.0s\n",
      "[CV] model__alpha=0.017 ..............................................\n",
      "[CV] .................. model__alpha=0.017, score=0.788, total=   0.0s\n",
      "[CV] model__alpha=0.018000000000000002 ...............................\n",
      "[CV] ... model__alpha=0.018000000000000002, score=0.760, total=   0.0s\n",
      "[CV] model__alpha=0.018000000000000002 ...............................\n",
      "[CV] ... model__alpha=0.018000000000000002, score=0.788, total=   0.0s\n",
      "[CV] model__alpha=0.018000000000000002 ...............................\n",
      "[CV] ... model__alpha=0.018000000000000002, score=0.770, total=   0.0s\n",
      "[CV] model__alpha=0.018000000000000002 ...............................\n",
      "[CV] ... model__alpha=0.018000000000000002, score=0.755, total=   0.0s\n",
      "[CV] model__alpha=0.018000000000000002 ...............................\n",
      "[CV] ... model__alpha=0.018000000000000002, score=0.787, total=   0.0s\n",
      "[CV] model__alpha=0.019000000000000003 ...............................\n",
      "[CV] ... model__alpha=0.019000000000000003, score=0.760, total=   0.0s\n",
      "[CV] model__alpha=0.019000000000000003 ...............................\n",
      "[CV] ... model__alpha=0.019000000000000003, score=0.788, total=   0.0s\n",
      "[CV] model__alpha=0.019000000000000003 ...............................\n",
      "[CV] ... model__alpha=0.019000000000000003, score=0.770, total=   0.0s\n",
      "[CV] model__alpha=0.019000000000000003 ...............................\n",
      "[CV] ... model__alpha=0.019000000000000003, score=0.755, total=   0.0s\n",
      "[CV] model__alpha=0.019000000000000003 ...............................\n",
      "[CV] ... model__alpha=0.019000000000000003, score=0.787, total=   0.0s\n",
      "[CV] model__alpha=0.02 ...............................................\n",
      "[CV] ................... model__alpha=0.02, score=0.760, total=   0.0s\n",
      "[CV] model__alpha=0.02 ...............................................\n",
      "[CV] ................... model__alpha=0.02, score=0.788, total=   0.0s\n",
      "[CV] model__alpha=0.02 ...............................................\n",
      "[CV] ................... model__alpha=0.02, score=0.770, total=   0.0s\n",
      "[CV] model__alpha=0.02 ...............................................\n",
      "[CV] ................... model__alpha=0.02, score=0.755, total=   0.0s\n",
      "[CV] model__alpha=0.02 ...............................................\n",
      "[CV] ................... model__alpha=0.02, score=0.787, total=   0.0s\n",
      "[CV] model__alpha=0.021 ..............................................\n",
      "[CV] .................. model__alpha=0.021, score=0.760, total=   0.0s\n",
      "[CV] model__alpha=0.021 ..............................................\n",
      "[CV] .................. model__alpha=0.021, score=0.788, total=   0.0s\n",
      "[CV] model__alpha=0.021 ..............................................\n",
      "[CV] .................. model__alpha=0.021, score=0.770, total=   0.0s\n",
      "[CV] model__alpha=0.021 ..............................................\n",
      "[CV] .................. model__alpha=0.021, score=0.755, total=   0.0s\n",
      "[CV] model__alpha=0.021 ..............................................\n",
      "[CV] .................. model__alpha=0.021, score=0.787, total=   0.0s\n",
      "[CV] model__alpha=0.022000000000000002 ...............................\n",
      "[CV] ... model__alpha=0.022000000000000002, score=0.760, total=   0.0s\n",
      "[CV] model__alpha=0.022000000000000002 ...............................\n",
      "[CV] ... model__alpha=0.022000000000000002, score=0.788, total=   0.0s\n",
      "[CV] model__alpha=0.022000000000000002 ...............................\n",
      "[CV] ... model__alpha=0.022000000000000002, score=0.770, total=   0.0s\n",
      "[CV] model__alpha=0.022000000000000002 ...............................\n",
      "[CV] ... model__alpha=0.022000000000000002, score=0.755, total=   0.0s\n",
      "[CV] model__alpha=0.022000000000000002 ...............................\n",
      "[CV] ... model__alpha=0.022000000000000002, score=0.786, total=   0.0s\n",
      "[CV] model__alpha=0.023 ..............................................\n",
      "[CV] .................. model__alpha=0.023, score=0.760, total=   0.0s\n",
      "[CV] model__alpha=0.023 ..............................................\n",
      "[CV] .................. model__alpha=0.023, score=0.788, total=   0.0s\n",
      "[CV] model__alpha=0.023 ..............................................\n",
      "[CV] .................. model__alpha=0.023, score=0.770, total=   0.0s\n",
      "[CV] model__alpha=0.023 ..............................................\n",
      "[CV] .................. model__alpha=0.023, score=0.755, total=   0.0s\n",
      "[CV] model__alpha=0.023 ..............................................\n",
      "[CV] .................. model__alpha=0.023, score=0.786, total=   0.0s\n",
      "[CV] model__alpha=0.024 ..............................................\n",
      "[CV] .................. model__alpha=0.024, score=0.760, total=   0.0s\n",
      "[CV] model__alpha=0.024 ..............................................\n",
      "[CV] .................. model__alpha=0.024, score=0.788, total=   0.0s\n",
      "[CV] model__alpha=0.024 ..............................................\n",
      "[CV] .................. model__alpha=0.024, score=0.770, total=   0.0s\n",
      "[CV] model__alpha=0.024 ..............................................\n",
      "[CV] .................. model__alpha=0.024, score=0.755, total=   0.0s\n",
      "[CV] model__alpha=0.024 ..............................................\n",
      "[CV] .................. model__alpha=0.024, score=0.786, total=   0.0s\n",
      "[CV] model__alpha=0.025 ..............................................\n",
      "[CV] .................. model__alpha=0.025, score=0.759, total=   0.0s\n",
      "[CV] model__alpha=0.025 ..............................................\n",
      "[CV] .................. model__alpha=0.025, score=0.788, total=   0.0s\n",
      "[CV] model__alpha=0.025 ..............................................\n",
      "[CV] .................. model__alpha=0.025, score=0.770, total=   0.0s\n",
      "[CV] model__alpha=0.025 ..............................................\n",
      "[CV] .................. model__alpha=0.025, score=0.755, total=   0.0s\n",
      "[CV] model__alpha=0.025 ..............................................\n",
      "[CV] .................. model__alpha=0.025, score=0.785, total=   0.0s\n",
      "[CV] model__alpha=0.026000000000000002 ...............................\n",
      "[CV] ... model__alpha=0.026000000000000002, score=0.759, total=   0.0s\n",
      "[CV] model__alpha=0.026000000000000002 ...............................\n",
      "[CV] ... model__alpha=0.026000000000000002, score=0.788, total=   0.0s\n",
      "[CV] model__alpha=0.026000000000000002 ...............................\n",
      "[CV] ... model__alpha=0.026000000000000002, score=0.770, total=   0.0s\n",
      "[CV] model__alpha=0.026000000000000002 ...............................\n",
      "[CV] ... model__alpha=0.026000000000000002, score=0.755, total=   0.0s\n",
      "[CV] model__alpha=0.026000000000000002 ...............................\n",
      "[CV] ... model__alpha=0.026000000000000002, score=0.785, total=   0.0s\n",
      "[CV] model__alpha=0.027000000000000003 ...............................\n",
      "[CV] ... model__alpha=0.027000000000000003, score=0.759, total=   0.0s\n",
      "[CV] model__alpha=0.027000000000000003 ...............................\n",
      "[CV] ... model__alpha=0.027000000000000003, score=0.788, total=   0.0s\n",
      "[CV] model__alpha=0.027000000000000003 ...............................\n",
      "[CV] ... model__alpha=0.027000000000000003, score=0.770, total=   0.0s\n",
      "[CV] model__alpha=0.027000000000000003 ...............................\n",
      "[CV] ... model__alpha=0.027000000000000003, score=0.755, total=   0.0s\n",
      "[CV] model__alpha=0.027000000000000003 ...............................\n",
      "[CV] ... model__alpha=0.027000000000000003, score=0.785, total=   0.0s\n",
      "[CV] model__alpha=0.028 ..............................................\n",
      "[CV] .................. model__alpha=0.028, score=0.759, total=   0.0s\n",
      "[CV] model__alpha=0.028 ..............................................\n",
      "[CV] .................. model__alpha=0.028, score=0.788, total=   0.0s\n",
      "[CV] model__alpha=0.028 ..............................................\n",
      "[CV] .................. model__alpha=0.028, score=0.770, total=   0.0s\n",
      "[CV] model__alpha=0.028 ..............................................\n",
      "[CV] .................. model__alpha=0.028, score=0.755, total=   0.0s\n",
      "[CV] model__alpha=0.028 ..............................................\n",
      "[CV] .................. model__alpha=0.028, score=0.784, total=   0.0s\n",
      "[CV] model__alpha=0.029 ..............................................\n",
      "[CV] .................. model__alpha=0.029, score=0.759, total=   0.0s\n",
      "[CV] model__alpha=0.029 ..............................................\n",
      "[CV] .................. model__alpha=0.029, score=0.788, total=   0.0s\n",
      "[CV] model__alpha=0.029 ..............................................\n",
      "[CV] .................. model__alpha=0.029, score=0.770, total=   0.0s\n",
      "[CV] model__alpha=0.029 ..............................................\n",
      "[CV] .................. model__alpha=0.029, score=0.755, total=   0.0s\n",
      "[CV] model__alpha=0.029 ..............................................\n",
      "[CV] .................. model__alpha=0.029, score=0.784, total=   0.0s\n",
      "[CV] model__alpha=0.030000000000000002 ...............................\n",
      "[CV] ... model__alpha=0.030000000000000002, score=0.758, total=   0.0s\n",
      "[CV] model__alpha=0.030000000000000002 ...............................\n",
      "[CV] ... model__alpha=0.030000000000000002, score=0.787, total=   0.0s\n",
      "[CV] model__alpha=0.030000000000000002 ...............................\n",
      "[CV] ... model__alpha=0.030000000000000002, score=0.770, total=   0.0s\n",
      "[CV] model__alpha=0.030000000000000002 ...............................\n",
      "[CV] ... model__alpha=0.030000000000000002, score=0.755, total=   0.0s\n",
      "[CV] model__alpha=0.030000000000000002 ...............................\n",
      "[CV] ... model__alpha=0.030000000000000002, score=0.784, total=   0.0s\n",
      "[CV] model__alpha=0.031 ..............................................\n",
      "[CV] .................. model__alpha=0.031, score=0.758, total=   0.0s\n",
      "[CV] model__alpha=0.031 ..............................................\n",
      "[CV] .................. model__alpha=0.031, score=0.787, total=   0.0s\n",
      "[CV] model__alpha=0.031 ..............................................\n",
      "[CV] .................. model__alpha=0.031, score=0.770, total=   0.0s\n",
      "[CV] model__alpha=0.031 ..............................................\n",
      "[CV] .................. model__alpha=0.031, score=0.755, total=   0.0s\n",
      "[CV] model__alpha=0.031 ..............................................\n",
      "[CV] .................. model__alpha=0.031, score=0.783, total=   0.0s\n",
      "[CV] model__alpha=0.032 ..............................................\n",
      "[CV] .................. model__alpha=0.032, score=0.758, total=   0.0s\n",
      "[CV] model__alpha=0.032 ..............................................\n",
      "[CV] .................. model__alpha=0.032, score=0.787, total=   0.0s\n",
      "[CV] model__alpha=0.032 ..............................................\n",
      "[CV] .................. model__alpha=0.032, score=0.770, total=   0.0s\n",
      "[CV] model__alpha=0.032 ..............................................\n",
      "[CV] .................. model__alpha=0.032, score=0.755, total=   0.0s\n",
      "[CV] model__alpha=0.032 ..............................................\n",
      "[CV] .................. model__alpha=0.032, score=0.783, total=   0.0s\n",
      "[CV] model__alpha=0.033 ..............................................\n",
      "[CV] .................. model__alpha=0.033, score=0.758, total=   0.0s\n",
      "[CV] model__alpha=0.033 ..............................................\n",
      "[CV] .................. model__alpha=0.033, score=0.787, total=   0.0s\n",
      "[CV] model__alpha=0.033 ..............................................\n",
      "[CV] .................. model__alpha=0.033, score=0.770, total=   0.0s\n",
      "[CV] model__alpha=0.033 ..............................................\n",
      "[CV] .................. model__alpha=0.033, score=0.755, total=   0.0s\n",
      "[CV] model__alpha=0.033 ..............................................\n",
      "[CV] .................. model__alpha=0.033, score=0.782, total=   0.0s\n",
      "[CV] model__alpha=0.034 ..............................................\n",
      "[CV] .................. model__alpha=0.034, score=0.757, total=   0.0s\n",
      "[CV] model__alpha=0.034 ..............................................\n",
      "[CV] .................. model__alpha=0.034, score=0.787, total=   0.0s\n",
      "[CV] model__alpha=0.034 ..............................................\n",
      "[CV] .................. model__alpha=0.034, score=0.770, total=   0.0s\n",
      "[CV] model__alpha=0.034 ..............................................\n",
      "[CV] .................. model__alpha=0.034, score=0.755, total=   0.0s\n",
      "[CV] model__alpha=0.034 ..............................................\n",
      "[CV] .................. model__alpha=0.034, score=0.782, total=   0.0s\n",
      "[CV] model__alpha=0.035 ..............................................\n",
      "[CV] .................. model__alpha=0.035, score=0.757, total=   0.0s\n",
      "[CV] model__alpha=0.035 ..............................................\n",
      "[CV] .................. model__alpha=0.035, score=0.787, total=   0.0s\n",
      "[CV] model__alpha=0.035 ..............................................\n",
      "[CV] .................. model__alpha=0.035, score=0.770, total=   0.0s\n",
      "[CV] model__alpha=0.035 ..............................................\n",
      "[CV] .................. model__alpha=0.035, score=0.754, total=   0.0s\n",
      "[CV] model__alpha=0.035 ..............................................\n",
      "[CV] .................. model__alpha=0.035, score=0.781, total=   0.0s\n",
      "[CV] model__alpha=0.036000000000000004 ...............................\n",
      "[CV] ... model__alpha=0.036000000000000004, score=0.757, total=   0.0s\n",
      "[CV] model__alpha=0.036000000000000004 ...............................\n",
      "[CV] ... model__alpha=0.036000000000000004, score=0.787, total=   0.0s\n",
      "[CV] model__alpha=0.036000000000000004 ...............................\n",
      "[CV] ... model__alpha=0.036000000000000004, score=0.770, total=   0.0s\n",
      "[CV] model__alpha=0.036000000000000004 ...............................\n",
      "[CV] ... model__alpha=0.036000000000000004, score=0.754, total=   0.0s\n",
      "[CV] model__alpha=0.036000000000000004 ...............................\n",
      "[CV] ... model__alpha=0.036000000000000004, score=0.781, total=   0.0s\n",
      "[CV] model__alpha=0.037000000000000005 ...............................\n",
      "[CV] ... model__alpha=0.037000000000000005, score=0.757, total=   0.0s\n",
      "[CV] model__alpha=0.037000000000000005 ...............................\n",
      "[CV] ... model__alpha=0.037000000000000005, score=0.786, total=   0.0s\n",
      "[CV] model__alpha=0.037000000000000005 ...............................\n",
      "[CV] ... model__alpha=0.037000000000000005, score=0.770, total=   0.0s\n",
      "[CV] model__alpha=0.037000000000000005 ...............................\n",
      "[CV] ... model__alpha=0.037000000000000005, score=0.754, total=   0.0s\n",
      "[CV] model__alpha=0.037000000000000005 ...............................\n",
      "[CV] ... model__alpha=0.037000000000000005, score=0.780, total=   0.0s\n",
      "[CV] model__alpha=0.038 ..............................................\n",
      "[CV] .................. model__alpha=0.038, score=0.757, total=   0.0s\n",
      "[CV] model__alpha=0.038 ..............................................\n",
      "[CV] .................. model__alpha=0.038, score=0.786, total=   0.0s\n",
      "[CV] model__alpha=0.038 ..............................................\n",
      "[CV] .................. model__alpha=0.038, score=0.770, total=   0.0s\n",
      "[CV] model__alpha=0.038 ..............................................\n",
      "[CV] .................. model__alpha=0.038, score=0.754, total=   0.0s\n",
      "[CV] model__alpha=0.038 ..............................................\n",
      "[CV] .................. model__alpha=0.038, score=0.780, total=   0.0s\n",
      "[CV] model__alpha=0.039 ..............................................\n",
      "[CV] .................. model__alpha=0.039, score=0.756, total=   0.0s\n",
      "[CV] model__alpha=0.039 ..............................................\n",
      "[CV] .................. model__alpha=0.039, score=0.786, total=   0.0s\n",
      "[CV] model__alpha=0.039 ..............................................\n",
      "[CV] .................. model__alpha=0.039, score=0.770, total=   0.0s\n",
      "[CV] model__alpha=0.039 ..............................................\n",
      "[CV] .................. model__alpha=0.039, score=0.754, total=   0.0s\n",
      "[CV] model__alpha=0.039 ..............................................\n",
      "[CV] .................. model__alpha=0.039, score=0.779, total=   0.0s\n",
      "[CV] model__alpha=0.04 ...............................................\n",
      "[CV] ................... model__alpha=0.04, score=0.756, total=   0.0s\n",
      "[CV] model__alpha=0.04 ...............................................\n",
      "[CV] ................... model__alpha=0.04, score=0.786, total=   0.0s\n",
      "[CV] model__alpha=0.04 ...............................................\n",
      "[CV] ................... model__alpha=0.04, score=0.770, total=   0.0s\n",
      "[CV] model__alpha=0.04 ...............................................\n",
      "[CV] ................... model__alpha=0.04, score=0.754, total=   0.0s\n",
      "[CV] model__alpha=0.04 ...............................................\n",
      "[CV] ................... model__alpha=0.04, score=0.778, total=   0.0s\n",
      "[CV] model__alpha=0.041 ..............................................\n",
      "[CV] .................. model__alpha=0.041, score=0.756, total=   0.0s\n",
      "[CV] model__alpha=0.041 ..............................................\n",
      "[CV] .................. model__alpha=0.041, score=0.785, total=   0.0s\n",
      "[CV] model__alpha=0.041 ..............................................\n",
      "[CV] .................. model__alpha=0.041, score=0.770, total=   0.0s\n",
      "[CV] model__alpha=0.041 ..............................................\n",
      "[CV] .................. model__alpha=0.041, score=0.754, total=   0.0s\n",
      "[CV] model__alpha=0.041 ..............................................\n",
      "[CV] .................. model__alpha=0.041, score=0.778, total=   0.0s\n",
      "[CV] model__alpha=0.042 ..............................................\n",
      "[CV] .................. model__alpha=0.042, score=0.755, total=   0.1s\n",
      "[CV] model__alpha=0.042 ..............................................\n",
      "[CV] .................. model__alpha=0.042, score=0.785, total=   0.0s\n",
      "[CV] model__alpha=0.042 ..............................................\n",
      "[CV] .................. model__alpha=0.042, score=0.770, total=   0.0s\n",
      "[CV] model__alpha=0.042 ..............................................\n",
      "[CV] .................. model__alpha=0.042, score=0.753, total=   0.0s\n",
      "[CV] model__alpha=0.042 ..............................................\n",
      "[CV] .................. model__alpha=0.042, score=0.777, total=   0.0s\n",
      "[CV] model__alpha=0.043000000000000003 ...............................\n",
      "[CV] ... model__alpha=0.043000000000000003, score=0.755, total=   0.0s\n",
      "[CV] model__alpha=0.043000000000000003 ...............................\n",
      "[CV] ... model__alpha=0.043000000000000003, score=0.785, total=   0.0s\n",
      "[CV] model__alpha=0.043000000000000003 ...............................\n",
      "[CV] ... model__alpha=0.043000000000000003, score=0.770, total=   0.0s\n",
      "[CV] model__alpha=0.043000000000000003 ...............................\n",
      "[CV] ... model__alpha=0.043000000000000003, score=0.753, total=   0.0s\n",
      "[CV] model__alpha=0.043000000000000003 ...............................\n",
      "[CV] ... model__alpha=0.043000000000000003, score=0.776, total=   0.0s\n",
      "[CV] model__alpha=0.044000000000000004 ...............................\n",
      "[CV] ... model__alpha=0.044000000000000004, score=0.754, total=   0.0s\n",
      "[CV] model__alpha=0.044000000000000004 ...............................\n",
      "[CV] ... model__alpha=0.044000000000000004, score=0.784, total=   0.0s\n",
      "[CV] model__alpha=0.044000000000000004 ...............................\n",
      "[CV] ... model__alpha=0.044000000000000004, score=0.770, total=   0.0s\n",
      "[CV] model__alpha=0.044000000000000004 ...............................\n",
      "[CV] ... model__alpha=0.044000000000000004, score=0.753, total=   0.0s\n",
      "[CV] model__alpha=0.044000000000000004 ...............................\n",
      "[CV] ... model__alpha=0.044000000000000004, score=0.776, total=   0.0s\n",
      "[CV] model__alpha=0.045 ..............................................\n",
      "[CV] .................. model__alpha=0.045, score=0.754, total=   0.1s\n",
      "[CV] model__alpha=0.045 ..............................................\n",
      "[CV] .................. model__alpha=0.045, score=0.784, total=   0.0s\n",
      "[CV] model__alpha=0.045 ..............................................\n",
      "[CV] .................. model__alpha=0.045, score=0.770, total=   0.0s\n",
      "[CV] model__alpha=0.045 ..............................................\n",
      "[CV] .................. model__alpha=0.045, score=0.753, total=   0.0s\n",
      "[CV] model__alpha=0.045 ..............................................\n",
      "[CV] .................. model__alpha=0.045, score=0.775, total=   0.0s\n",
      "[CV] model__alpha=0.046 ..............................................\n",
      "[CV] .................. model__alpha=0.046, score=0.753, total=   0.0s\n",
      "[CV] model__alpha=0.046 ..............................................\n",
      "[CV] .................. model__alpha=0.046, score=0.784, total=   0.0s\n",
      "[CV] model__alpha=0.046 ..............................................\n",
      "[CV] .................. model__alpha=0.046, score=0.770, total=   0.0s\n",
      "[CV] model__alpha=0.046 ..............................................\n",
      "[CV] .................. model__alpha=0.046, score=0.753, total=   0.0s\n",
      "[CV] model__alpha=0.046 ..............................................\n",
      "[CV] .................. model__alpha=0.046, score=0.774, total=   0.0s\n",
      "[CV] model__alpha=0.047 ..............................................\n",
      "[CV] .................. model__alpha=0.047, score=0.753, total=   0.0s\n",
      "[CV] model__alpha=0.047 ..............................................\n",
      "[CV] .................. model__alpha=0.047, score=0.783, total=   0.0s\n",
      "[CV] model__alpha=0.047 ..............................................\n",
      "[CV] .................. model__alpha=0.047, score=0.769, total=   0.0s\n",
      "[CV] model__alpha=0.047 ..............................................\n",
      "[CV] .................. model__alpha=0.047, score=0.753, total=   0.0s\n",
      "[CV] model__alpha=0.047 ..............................................\n",
      "[CV] .................. model__alpha=0.047, score=0.774, total=   0.0s\n",
      "[CV] model__alpha=0.048 ..............................................\n",
      "[CV] .................. model__alpha=0.048, score=0.753, total=   0.0s\n",
      "[CV] model__alpha=0.048 ..............................................\n",
      "[CV] .................. model__alpha=0.048, score=0.783, total=   0.0s\n",
      "[CV] model__alpha=0.048 ..............................................\n",
      "[CV] .................. model__alpha=0.048, score=0.769, total=   0.0s\n",
      "[CV] model__alpha=0.048 ..............................................\n",
      "[CV] .................. model__alpha=0.048, score=0.752, total=   0.0s\n",
      "[CV] model__alpha=0.048 ..............................................\n",
      "[CV] .................. model__alpha=0.048, score=0.773, total=   0.0s\n",
      "[CV] model__alpha=0.049 ..............................................\n",
      "[CV] .................. model__alpha=0.049, score=0.752, total=   0.0s\n",
      "[CV] model__alpha=0.049 ..............................................\n",
      "[CV] .................. model__alpha=0.049, score=0.782, total=   0.0s\n",
      "[CV] model__alpha=0.049 ..............................................\n",
      "[CV] .................. model__alpha=0.049, score=0.769, total=   0.0s\n",
      "[CV] model__alpha=0.049 ..............................................\n",
      "[CV] .................. model__alpha=0.049, score=0.752, total=   0.0s\n",
      "[CV] model__alpha=0.049 ..............................................\n",
      "[CV] .................. model__alpha=0.049, score=0.772, total=   0.0s\n",
      "[CV] model__alpha=0.05 ...............................................\n",
      "[CV] ................... model__alpha=0.05, score=0.752, total=   0.0s\n",
      "[CV] model__alpha=0.05 ...............................................\n",
      "[CV] ................... model__alpha=0.05, score=0.782, total=   0.0s\n",
      "[CV] model__alpha=0.05 ...............................................\n",
      "[CV] ................... model__alpha=0.05, score=0.769, total=   0.0s\n",
      "[CV] model__alpha=0.05 ...............................................\n",
      "[CV] ................... model__alpha=0.05, score=0.752, total=   0.0s\n",
      "[CV] model__alpha=0.05 ...............................................\n",
      "[CV] ................... model__alpha=0.05, score=0.772, total=   0.0s\n",
      "[CV] model__alpha=0.051000000000000004 ...............................\n",
      "[CV] ... model__alpha=0.051000000000000004, score=0.751, total=   0.0s\n",
      "[CV] model__alpha=0.051000000000000004 ...............................\n",
      "[CV] ... model__alpha=0.051000000000000004, score=0.781, total=   0.0s\n",
      "[CV] model__alpha=0.051000000000000004 ...............................\n",
      "[CV] ... model__alpha=0.051000000000000004, score=0.769, total=   0.0s\n",
      "[CV] model__alpha=0.051000000000000004 ...............................\n",
      "[CV] ... model__alpha=0.051000000000000004, score=0.751, total=   0.0s\n",
      "[CV] model__alpha=0.051000000000000004 ...............................\n",
      "[CV] ... model__alpha=0.051000000000000004, score=0.771, total=   0.0s\n",
      "[CV] model__alpha=0.052000000000000005 ...............................\n",
      "[CV] ... model__alpha=0.052000000000000005, score=0.751, total=   0.0s\n",
      "[CV] model__alpha=0.052000000000000005 ...............................\n",
      "[CV] ... model__alpha=0.052000000000000005, score=0.781, total=   0.0s\n",
      "[CV] model__alpha=0.052000000000000005 ...............................\n",
      "[CV] ... model__alpha=0.052000000000000005, score=0.768, total=   0.0s\n",
      "[CV] model__alpha=0.052000000000000005 ...............................\n",
      "[CV] ... model__alpha=0.052000000000000005, score=0.751, total=   0.0s\n",
      "[CV] model__alpha=0.052000000000000005 ...............................\n",
      "[CV] ... model__alpha=0.052000000000000005, score=0.770, total=   0.0s\n",
      "[CV] model__alpha=0.053000000000000005 ...............................\n",
      "[CV] ... model__alpha=0.053000000000000005, score=0.751, total=   0.0s\n",
      "[CV] model__alpha=0.053000000000000005 ...............................\n",
      "[CV] ... model__alpha=0.053000000000000005, score=0.780, total=   0.0s\n",
      "[CV] model__alpha=0.053000000000000005 ...............................\n",
      "[CV] ... model__alpha=0.053000000000000005, score=0.768, total=   0.0s\n",
      "[CV] model__alpha=0.053000000000000005 ...............................\n",
      "[CV] ... model__alpha=0.053000000000000005, score=0.751, total=   0.0s\n",
      "[CV] model__alpha=0.053000000000000005 ...............................\n",
      "[CV] ... model__alpha=0.053000000000000005, score=0.769, total=   0.0s\n",
      "[CV] model__alpha=0.054 ..............................................\n",
      "[CV] .................. model__alpha=0.054, score=0.750, total=   0.0s\n",
      "[CV] model__alpha=0.054 ..............................................\n",
      "[CV] .................. model__alpha=0.054, score=0.779, total=   0.0s\n",
      "[CV] model__alpha=0.054 ..............................................\n",
      "[CV] .................. model__alpha=0.054, score=0.768, total=   0.0s\n",
      "[CV] model__alpha=0.054 ..............................................\n",
      "[CV] .................. model__alpha=0.054, score=0.750, total=   0.0s\n",
      "[CV] model__alpha=0.054 ..............................................\n",
      "[CV] .................. model__alpha=0.054, score=0.768, total=   0.0s\n",
      "[CV] model__alpha=0.055 ..............................................\n",
      "[CV] .................. model__alpha=0.055, score=0.750, total=   0.0s\n",
      "[CV] model__alpha=0.055 ..............................................\n",
      "[CV] .................. model__alpha=0.055, score=0.779, total=   0.0s\n",
      "[CV] model__alpha=0.055 ..............................................\n",
      "[CV] .................. model__alpha=0.055, score=0.767, total=   0.0s\n",
      "[CV] model__alpha=0.055 ..............................................\n",
      "[CV] .................. model__alpha=0.055, score=0.750, total=   0.0s\n",
      "[CV] model__alpha=0.055 ..............................................\n",
      "[CV] .................. model__alpha=0.055, score=0.767, total=   0.0s\n",
      "[CV] model__alpha=0.056 ..............................................\n",
      "[CV] .................. model__alpha=0.056, score=0.749, total=   0.0s\n",
      "[CV] model__alpha=0.056 ..............................................\n",
      "[CV] .................. model__alpha=0.056, score=0.778, total=   0.0s\n",
      "[CV] model__alpha=0.056 ..............................................\n",
      "[CV] .................. model__alpha=0.056, score=0.767, total=   0.0s\n",
      "[CV] model__alpha=0.056 ..............................................\n",
      "[CV] .................. model__alpha=0.056, score=0.749, total=   0.0s\n",
      "[CV] model__alpha=0.056 ..............................................\n",
      "[CV] .................. model__alpha=0.056, score=0.767, total=   0.0s\n",
      "[CV] model__alpha=0.057 ..............................................\n",
      "[CV] .................. model__alpha=0.057, score=0.749, total=   0.0s\n",
      "[CV] model__alpha=0.057 ..............................................\n",
      "[CV] .................. model__alpha=0.057, score=0.777, total=   0.0s\n",
      "[CV] model__alpha=0.057 ..............................................\n",
      "[CV] .................. model__alpha=0.057, score=0.767, total=   0.0s\n",
      "[CV] model__alpha=0.057 ..............................................\n",
      "[CV] .................. model__alpha=0.057, score=0.749, total=   0.0s\n",
      "[CV] model__alpha=0.057 ..............................................\n",
      "[CV] .................. model__alpha=0.057, score=0.766, total=   0.0s\n",
      "[CV] model__alpha=0.058 ..............................................\n",
      "[CV] .................. model__alpha=0.058, score=0.749, total=   0.0s\n",
      "[CV] model__alpha=0.058 ..............................................\n",
      "[CV] .................. model__alpha=0.058, score=0.776, total=   0.0s\n",
      "[CV] model__alpha=0.058 ..............................................\n",
      "[CV] .................. model__alpha=0.058, score=0.766, total=   0.0s\n",
      "[CV] model__alpha=0.058 ..............................................\n",
      "[CV] .................. model__alpha=0.058, score=0.749, total=   0.0s\n",
      "[CV] model__alpha=0.058 ..............................................\n",
      "[CV] .................. model__alpha=0.058, score=0.765, total=   0.0s\n",
      "[CV] model__alpha=0.059000000000000004 ...............................\n",
      "[CV] ... model__alpha=0.059000000000000004, score=0.748, total=   0.0s\n",
      "[CV] model__alpha=0.059000000000000004 ...............................\n",
      "[CV] ... model__alpha=0.059000000000000004, score=0.775, total=   0.1s\n",
      "[CV] model__alpha=0.059000000000000004 ...............................\n",
      "[CV] ... model__alpha=0.059000000000000004, score=0.766, total=   0.1s\n",
      "[CV] model__alpha=0.059000000000000004 ...............................\n",
      "[CV] ... model__alpha=0.059000000000000004, score=0.748, total=   0.1s\n",
      "[CV] model__alpha=0.059000000000000004 ...............................\n",
      "[CV] ... model__alpha=0.059000000000000004, score=0.764, total=   0.0s\n",
      "[CV] model__alpha=0.060000000000000005 ...............................\n",
      "[CV] ... model__alpha=0.060000000000000005, score=0.747, total=   0.0s\n",
      "[CV] model__alpha=0.060000000000000005 ...............................\n",
      "[CV] ... model__alpha=0.060000000000000005, score=0.774, total=   0.0s\n",
      "[CV] model__alpha=0.060000000000000005 ...............................\n",
      "[CV] ... model__alpha=0.060000000000000005, score=0.765, total=   0.0s\n",
      "[CV] model__alpha=0.060000000000000005 ...............................\n",
      "[CV] ... model__alpha=0.060000000000000005, score=0.748, total=   0.0s\n",
      "[CV] model__alpha=0.060000000000000005 ...............................\n",
      "[CV] ... model__alpha=0.060000000000000005, score=0.763, total=   0.0s\n",
      "[CV] model__alpha=0.061 ..............................................\n",
      "[CV] .................. model__alpha=0.061, score=0.747, total=   0.0s\n",
      "[CV] model__alpha=0.061 ..............................................\n",
      "[CV] .................. model__alpha=0.061, score=0.774, total=   0.0s\n",
      "[CV] model__alpha=0.061 ..............................................\n",
      "[CV] .................. model__alpha=0.061, score=0.765, total=   0.0s\n",
      "[CV] model__alpha=0.061 ..............................................\n",
      "[CV] .................. model__alpha=0.061, score=0.747, total=   0.0s\n",
      "[CV] model__alpha=0.061 ..............................................\n",
      "[CV] .................. model__alpha=0.061, score=0.762, total=   0.0s\n",
      "[CV] model__alpha=0.062 ..............................................\n",
      "[CV] .................. model__alpha=0.062, score=0.746, total=   0.0s\n",
      "[CV] model__alpha=0.062 ..............................................\n",
      "[CV] .................. model__alpha=0.062, score=0.773, total=   0.0s\n",
      "[CV] model__alpha=0.062 ..............................................\n",
      "[CV] .................. model__alpha=0.062, score=0.764, total=   0.0s\n",
      "[CV] model__alpha=0.062 ..............................................\n",
      "[CV] .................. model__alpha=0.062, score=0.746, total=   0.0s\n",
      "[CV] model__alpha=0.062 ..............................................\n",
      "[CV] .................. model__alpha=0.062, score=0.762, total=   0.0s\n",
      "[CV] model__alpha=0.063 ..............................................\n",
      "[CV] .................. model__alpha=0.063, score=0.745, total=   0.0s\n",
      "[CV] model__alpha=0.063 ..............................................\n",
      "[CV] .................. model__alpha=0.063, score=0.772, total=   0.0s\n",
      "[CV] model__alpha=0.063 ..............................................\n",
      "[CV] .................. model__alpha=0.063, score=0.763, total=   0.0s\n",
      "[CV] model__alpha=0.063 ..............................................\n",
      "[CV] .................. model__alpha=0.063, score=0.747, total=   0.0s\n",
      "[CV] model__alpha=0.063 ..............................................\n",
      "[CV] .................. model__alpha=0.063, score=0.761, total=   0.0s\n",
      "[CV] model__alpha=0.064 ..............................................\n",
      "[CV] .................. model__alpha=0.064, score=0.745, total=   0.0s\n",
      "[CV] model__alpha=0.064 ..............................................\n",
      "[CV] .................. model__alpha=0.064, score=0.772, total=   0.0s\n",
      "[CV] model__alpha=0.064 ..............................................\n",
      "[CV] .................. model__alpha=0.064, score=0.763, total=   0.0s\n",
      "[CV] model__alpha=0.064 ..............................................\n",
      "[CV] .................. model__alpha=0.064, score=0.747, total=   0.0s\n",
      "[CV] model__alpha=0.064 ..............................................\n",
      "[CV] .................. model__alpha=0.064, score=0.760, total=   0.0s\n",
      "[CV] model__alpha=0.065 ..............................................\n",
      "[CV] .................. model__alpha=0.065, score=0.744, total=   0.0s\n",
      "[CV] model__alpha=0.065 ..............................................\n",
      "[CV] .................. model__alpha=0.065, score=0.771, total=   0.0s\n",
      "[CV] model__alpha=0.065 ..............................................\n",
      "[CV] .................. model__alpha=0.065, score=0.762, total=   0.0s\n",
      "[CV] model__alpha=0.065 ..............................................\n",
      "[CV] .................. model__alpha=0.065, score=0.747, total=   0.0s\n",
      "[CV] model__alpha=0.065 ..............................................\n",
      "[CV] .................. model__alpha=0.065, score=0.760, total=   0.0s\n",
      "[CV] model__alpha=0.066 ..............................................\n",
      "[CV] .................. model__alpha=0.066, score=0.743, total=   0.0s\n",
      "[CV] model__alpha=0.066 ..............................................\n",
      "[CV] .................. model__alpha=0.066, score=0.771, total=   0.0s\n",
      "[CV] model__alpha=0.066 ..............................................\n",
      "[CV] .................. model__alpha=0.066, score=0.762, total=   0.0s\n",
      "[CV] model__alpha=0.066 ..............................................\n",
      "[CV] .................. model__alpha=0.066, score=0.747, total=   0.0s\n",
      "[CV] model__alpha=0.066 ..............................................\n",
      "[CV] .................. model__alpha=0.066, score=0.759, total=   0.0s\n",
      "[CV] model__alpha=0.067 ..............................................\n",
      "[CV] .................. model__alpha=0.067, score=0.744, total=   0.0s\n",
      "[CV] model__alpha=0.067 ..............................................\n",
      "[CV] .................. model__alpha=0.067, score=0.771, total=   0.0s\n",
      "[CV] model__alpha=0.067 ..............................................\n",
      "[CV] .................. model__alpha=0.067, score=0.761, total=   0.0s\n",
      "[CV] model__alpha=0.067 ..............................................\n",
      "[CV] .................. model__alpha=0.067, score=0.747, total=   0.0s\n",
      "[CV] model__alpha=0.067 ..............................................\n",
      "[CV] .................. model__alpha=0.067, score=0.758, total=   0.0s\n",
      "[CV] model__alpha=0.068 ..............................................\n",
      "[CV] .................. model__alpha=0.068, score=0.743, total=   0.0s\n",
      "[CV] model__alpha=0.068 ..............................................\n",
      "[CV] .................. model__alpha=0.068, score=0.770, total=   0.0s\n",
      "[CV] model__alpha=0.068 ..............................................\n",
      "[CV] .................. model__alpha=0.068, score=0.761, total=   0.0s\n",
      "[CV] model__alpha=0.068 ..............................................\n",
      "[CV] .................. model__alpha=0.068, score=0.747, total=   0.0s\n",
      "[CV] model__alpha=0.068 ..............................................\n",
      "[CV] .................. model__alpha=0.068, score=0.758, total=   0.0s\n",
      "[CV] model__alpha=0.069 ..............................................\n",
      "[CV] .................. model__alpha=0.069, score=0.742, total=   0.0s\n",
      "[CV] model__alpha=0.069 ..............................................\n",
      "[CV] .................. model__alpha=0.069, score=0.769, total=   0.0s\n",
      "[CV] model__alpha=0.069 ..............................................\n",
      "[CV] .................. model__alpha=0.069, score=0.760, total=   0.0s\n",
      "[CV] model__alpha=0.069 ..............................................\n",
      "[CV] .................. model__alpha=0.069, score=0.747, total=   0.0s\n",
      "[CV] model__alpha=0.069 ..............................................\n",
      "[CV] .................. model__alpha=0.069, score=0.757, total=   0.0s\n",
      "[CV] model__alpha=0.07 ...............................................\n",
      "[CV] ................... model__alpha=0.07, score=0.742, total=   0.0s\n",
      "[CV] model__alpha=0.07 ...............................................\n",
      "[CV] ................... model__alpha=0.07, score=0.769, total=   0.0s\n",
      "[CV] model__alpha=0.07 ...............................................\n",
      "[CV] ................... model__alpha=0.07, score=0.759, total=   0.0s\n",
      "[CV] model__alpha=0.07 ...............................................\n",
      "[CV] ................... model__alpha=0.07, score=0.746, total=   0.0s\n",
      "[CV] model__alpha=0.07 ...............................................\n",
      "[CV] ................... model__alpha=0.07, score=0.756, total=   0.0s\n",
      "[CV] model__alpha=0.07100000000000001 ................................\n",
      "[CV] .... model__alpha=0.07100000000000001, score=0.742, total=   0.0s\n",
      "[CV] model__alpha=0.07100000000000001 ................................\n",
      "[CV] .... model__alpha=0.07100000000000001, score=0.768, total=   0.0s\n",
      "[CV] model__alpha=0.07100000000000001 ................................\n",
      "[CV] .... model__alpha=0.07100000000000001, score=0.759, total=   0.0s\n",
      "[CV] model__alpha=0.07100000000000001 ................................\n",
      "[CV] .... model__alpha=0.07100000000000001, score=0.747, total=   0.0s\n",
      "[CV] model__alpha=0.07100000000000001 ................................\n",
      "[CV] .... model__alpha=0.07100000000000001, score=0.755, total=   0.1s\n",
      "[CV] model__alpha=0.07200000000000001 ................................\n",
      "[CV] .... model__alpha=0.07200000000000001, score=0.741, total=   0.0s\n",
      "[CV] model__alpha=0.07200000000000001 ................................\n",
      "[CV] .... model__alpha=0.07200000000000001, score=0.768, total=   0.0s\n",
      "[CV] model__alpha=0.07200000000000001 ................................\n",
      "[CV] .... model__alpha=0.07200000000000001, score=0.759, total=   0.0s\n",
      "[CV] model__alpha=0.07200000000000001 ................................\n",
      "[CV] .... model__alpha=0.07200000000000001, score=0.747, total=   0.0s\n",
      "[CV] model__alpha=0.07200000000000001 ................................\n",
      "[CV] .... model__alpha=0.07200000000000001, score=0.754, total=   0.0s\n",
      "[CV] model__alpha=0.07300000000000001 ................................\n",
      "[CV] .... model__alpha=0.07300000000000001, score=0.741, total=   0.1s\n",
      "[CV] model__alpha=0.07300000000000001 ................................\n",
      "[CV] .... model__alpha=0.07300000000000001, score=0.767, total=   0.0s\n",
      "[CV] model__alpha=0.07300000000000001 ................................\n",
      "[CV] .... model__alpha=0.07300000000000001, score=0.759, total=   0.0s\n",
      "[CV] model__alpha=0.07300000000000001 ................................\n",
      "[CV] .... model__alpha=0.07300000000000001, score=0.747, total=   0.0s\n",
      "[CV] model__alpha=0.07300000000000001 ................................\n",
      "[CV] .... model__alpha=0.07300000000000001, score=0.754, total=   0.0s\n",
      "[CV] model__alpha=0.074 ..............................................\n",
      "[CV] .................. model__alpha=0.074, score=0.740, total=   0.0s\n",
      "[CV] model__alpha=0.074 ..............................................\n",
      "[CV] .................. model__alpha=0.074, score=0.766, total=   0.0s\n",
      "[CV] model__alpha=0.074 ..............................................\n",
      "[CV] .................. model__alpha=0.074, score=0.758, total=   0.0s\n",
      "[CV] model__alpha=0.074 ..............................................\n",
      "[CV] .................. model__alpha=0.074, score=0.746, total=   0.0s\n",
      "[CV] model__alpha=0.074 ..............................................\n",
      "[CV] .................. model__alpha=0.074, score=0.752, total=   0.0s\n",
      "[CV] model__alpha=0.075 ..............................................\n",
      "[CV] .................. model__alpha=0.075, score=0.739, total=   0.0s\n",
      "[CV] model__alpha=0.075 ..............................................\n",
      "[CV] .................. model__alpha=0.075, score=0.765, total=   0.0s\n",
      "[CV] model__alpha=0.075 ..............................................\n",
      "[CV] .................. model__alpha=0.075, score=0.758, total=   0.0s\n",
      "[CV] model__alpha=0.075 ..............................................\n",
      "[CV] .................. model__alpha=0.075, score=0.746, total=   0.0s\n",
      "[CV] model__alpha=0.075 ..............................................\n",
      "[CV] .................. model__alpha=0.075, score=0.752, total=   0.0s\n",
      "[CV] model__alpha=0.076 ..............................................\n",
      "[CV] .................. model__alpha=0.076, score=0.739, total=   0.0s\n",
      "[CV] model__alpha=0.076 ..............................................\n",
      "[CV] .................. model__alpha=0.076, score=0.764, total=   0.0s\n",
      "[CV] model__alpha=0.076 ..............................................\n",
      "[CV] .................. model__alpha=0.076, score=0.757, total=   0.0s\n",
      "[CV] model__alpha=0.076 ..............................................\n",
      "[CV] .................. model__alpha=0.076, score=0.746, total=   0.0s\n",
      "[CV] model__alpha=0.076 ..............................................\n",
      "[CV] .................. model__alpha=0.076, score=0.750, total=   0.0s\n",
      "[CV] model__alpha=0.077 ..............................................\n",
      "[CV] .................. model__alpha=0.077, score=0.738, total=   0.0s\n",
      "[CV] model__alpha=0.077 ..............................................\n",
      "[CV] .................. model__alpha=0.077, score=0.763, total=   0.0s\n",
      "[CV] model__alpha=0.077 ..............................................\n",
      "[CV] .................. model__alpha=0.077, score=0.756, total=   0.0s\n",
      "[CV] model__alpha=0.077 ..............................................\n",
      "[CV] .................. model__alpha=0.077, score=0.746, total=   0.0s\n",
      "[CV] model__alpha=0.077 ..............................................\n",
      "[CV] .................. model__alpha=0.077, score=0.749, total=   0.0s\n",
      "[CV] model__alpha=0.078 ..............................................\n",
      "[CV] .................. model__alpha=0.078, score=0.737, total=   0.0s\n",
      "[CV] model__alpha=0.078 ..............................................\n",
      "[CV] .................. model__alpha=0.078, score=0.762, total=   0.0s\n",
      "[CV] model__alpha=0.078 ..............................................\n",
      "[CV] .................. model__alpha=0.078, score=0.756, total=   0.0s\n",
      "[CV] model__alpha=0.078 ..............................................\n",
      "[CV] .................. model__alpha=0.078, score=0.745, total=   0.0s\n",
      "[CV] model__alpha=0.078 ..............................................\n",
      "[CV] .................. model__alpha=0.078, score=0.749, total=   0.0s\n",
      "[CV] model__alpha=0.079 ..............................................\n",
      "[CV] .................. model__alpha=0.079, score=0.737, total=   0.0s\n",
      "[CV] model__alpha=0.079 ..............................................\n",
      "[CV] .................. model__alpha=0.079, score=0.761, total=   0.0s\n",
      "[CV] model__alpha=0.079 ..............................................\n",
      "[CV] .................. model__alpha=0.079, score=0.755, total=   0.0s\n",
      "[CV] model__alpha=0.079 ..............................................\n",
      "[CV] .................. model__alpha=0.079, score=0.745, total=   0.0s\n",
      "[CV] model__alpha=0.079 ..............................................\n",
      "[CV] .................. model__alpha=0.079, score=0.747, total=   0.0s\n",
      "[CV] model__alpha=0.08 ...............................................\n",
      "[CV] ................... model__alpha=0.08, score=0.736, total=   0.0s\n",
      "[CV] model__alpha=0.08 ...............................................\n",
      "[CV] ................... model__alpha=0.08, score=0.760, total=   0.0s\n",
      "[CV] model__alpha=0.08 ...............................................\n",
      "[CV] ................... model__alpha=0.08, score=0.754, total=   0.0s\n",
      "[CV] model__alpha=0.08 ...............................................\n",
      "[CV] ................... model__alpha=0.08, score=0.745, total=   0.0s\n",
      "[CV] model__alpha=0.08 ...............................................\n",
      "[CV] ................... model__alpha=0.08, score=0.745, total=   0.0s\n",
      "[CV] model__alpha=0.081 ..............................................\n",
      "[CV] .................. model__alpha=0.081, score=0.735, total=   0.0s\n",
      "[CV] model__alpha=0.081 ..............................................\n",
      "[CV] .................. model__alpha=0.081, score=0.759, total=   0.0s\n",
      "[CV] model__alpha=0.081 ..............................................\n",
      "[CV] .................. model__alpha=0.081, score=0.753, total=   0.0s\n",
      "[CV] model__alpha=0.081 ..............................................\n",
      "[CV] .................. model__alpha=0.081, score=0.745, total=   0.0s\n",
      "[CV] model__alpha=0.081 ..............................................\n",
      "[CV] .................. model__alpha=0.081, score=0.744, total=   0.0s\n",
      "[CV] model__alpha=0.082 ..............................................\n",
      "[CV] .................. model__alpha=0.082, score=0.734, total=   0.0s\n",
      "[CV] model__alpha=0.082 ..............................................\n",
      "[CV] .................. model__alpha=0.082, score=0.758, total=   0.0s\n",
      "[CV] model__alpha=0.082 ..............................................\n",
      "[CV] .................. model__alpha=0.082, score=0.753, total=   0.0s\n",
      "[CV] model__alpha=0.082 ..............................................\n",
      "[CV] .................. model__alpha=0.082, score=0.744, total=   0.0s\n",
      "[CV] model__alpha=0.082 ..............................................\n",
      "[CV] .................. model__alpha=0.082, score=0.743, total=   0.0s\n",
      "[CV] model__alpha=0.083 ..............................................\n",
      "[CV] .................. model__alpha=0.083, score=0.733, total=   0.0s\n",
      "[CV] model__alpha=0.083 ..............................................\n",
      "[CV] .................. model__alpha=0.083, score=0.756, total=   0.0s\n",
      "[CV] model__alpha=0.083 ..............................................\n",
      "[CV] .................. model__alpha=0.083, score=0.752, total=   0.0s\n",
      "[CV] model__alpha=0.083 ..............................................\n",
      "[CV] .................. model__alpha=0.083, score=0.744, total=   0.0s\n",
      "[CV] model__alpha=0.083 ..............................................\n",
      "[CV] .................. model__alpha=0.083, score=0.741, total=   0.0s\n",
      "[CV] model__alpha=0.084 ..............................................\n",
      "[CV] .................. model__alpha=0.084, score=0.732, total=   0.0s\n",
      "[CV] model__alpha=0.084 ..............................................\n",
      "[CV] .................. model__alpha=0.084, score=0.754, total=   0.0s\n",
      "[CV] model__alpha=0.084 ..............................................\n",
      "[CV] .................. model__alpha=0.084, score=0.751, total=   0.0s\n",
      "[CV] model__alpha=0.084 ..............................................\n",
      "[CV] .................. model__alpha=0.084, score=0.744, total=   0.0s\n",
      "[CV] model__alpha=0.084 ..............................................\n",
      "[CV] .................. model__alpha=0.084, score=0.740, total=   0.1s\n",
      "[CV] model__alpha=0.085 ..............................................\n",
      "[CV] .................. model__alpha=0.085, score=0.731, total=   0.0s\n",
      "[CV] model__alpha=0.085 ..............................................\n",
      "[CV] .................. model__alpha=0.085, score=0.753, total=   0.0s\n",
      "[CV] model__alpha=0.085 ..............................................\n",
      "[CV] .................. model__alpha=0.085, score=0.750, total=   0.0s\n",
      "[CV] model__alpha=0.085 ..............................................\n",
      "[CV] .................. model__alpha=0.085, score=0.743, total=   0.0s\n",
      "[CV] model__alpha=0.085 ..............................................\n",
      "[CV] .................. model__alpha=0.085, score=0.738, total=   0.0s\n",
      "[CV] model__alpha=0.08600000000000001 ................................\n",
      "[CV] .... model__alpha=0.08600000000000001, score=0.730, total=   0.0s\n",
      "[CV] model__alpha=0.08600000000000001 ................................\n",
      "[CV] .... model__alpha=0.08600000000000001, score=0.752, total=   0.0s\n",
      "[CV] model__alpha=0.08600000000000001 ................................\n",
      "[CV] .... model__alpha=0.08600000000000001, score=0.749, total=   0.0s\n",
      "[CV] model__alpha=0.08600000000000001 ................................\n",
      "[CV] .... model__alpha=0.08600000000000001, score=0.743, total=   0.0s\n",
      "[CV] model__alpha=0.08600000000000001 ................................\n",
      "[CV] .... model__alpha=0.08600000000000001, score=0.737, total=   0.0s\n",
      "[CV] model__alpha=0.08700000000000001 ................................\n",
      "[CV] .... model__alpha=0.08700000000000001, score=0.729, total=   0.0s\n",
      "[CV] model__alpha=0.08700000000000001 ................................\n",
      "[CV] .... model__alpha=0.08700000000000001, score=0.751, total=   0.0s\n",
      "[CV] model__alpha=0.08700000000000001 ................................\n",
      "[CV] .... model__alpha=0.08700000000000001, score=0.748, total=   0.0s\n",
      "[CV] model__alpha=0.08700000000000001 ................................\n",
      "[CV] .... model__alpha=0.08700000000000001, score=0.742, total=   0.0s\n",
      "[CV] model__alpha=0.08700000000000001 ................................\n",
      "[CV] .... model__alpha=0.08700000000000001, score=0.735, total=   0.0s\n",
      "[CV] model__alpha=0.08800000000000001 ................................\n",
      "[CV] .... model__alpha=0.08800000000000001, score=0.728, total=   0.0s\n",
      "[CV] model__alpha=0.08800000000000001 ................................\n",
      "[CV] .... model__alpha=0.08800000000000001, score=0.749, total=   0.0s\n",
      "[CV] model__alpha=0.08800000000000001 ................................\n",
      "[CV] .... model__alpha=0.08800000000000001, score=0.747, total=   0.0s\n",
      "[CV] model__alpha=0.08800000000000001 ................................\n",
      "[CV] .... model__alpha=0.08800000000000001, score=0.742, total=   0.0s\n",
      "[CV] model__alpha=0.08800000000000001 ................................\n",
      "[CV] .... model__alpha=0.08800000000000001, score=0.735, total=   0.0s\n",
      "[CV] model__alpha=0.089 ..............................................\n",
      "[CV] .................. model__alpha=0.089, score=0.727, total=   0.0s\n",
      "[CV] model__alpha=0.089 ..............................................\n",
      "[CV] .................. model__alpha=0.089, score=0.746, total=   0.0s\n",
      "[CV] model__alpha=0.089 ..............................................\n",
      "[CV] .................. model__alpha=0.089, score=0.745, total=   0.0s\n",
      "[CV] model__alpha=0.089 ..............................................\n",
      "[CV] .................. model__alpha=0.089, score=0.741, total=   0.0s\n",
      "[CV] model__alpha=0.089 ..............................................\n",
      "[CV] .................. model__alpha=0.089, score=0.733, total=   0.0s\n",
      "[CV] model__alpha=0.09 ...............................................\n",
      "[CV] ................... model__alpha=0.09, score=0.726, total=   0.0s\n",
      "[CV] model__alpha=0.09 ...............................................\n",
      "[CV] ................... model__alpha=0.09, score=0.746, total=   0.0s\n",
      "[CV] model__alpha=0.09 ...............................................\n",
      "[CV] ................... model__alpha=0.09, score=0.743, total=   0.0s\n",
      "[CV] model__alpha=0.09 ...............................................\n",
      "[CV] ................... model__alpha=0.09, score=0.740, total=   0.0s\n",
      "[CV] model__alpha=0.09 ...............................................\n",
      "[CV] ................... model__alpha=0.09, score=0.731, total=   0.0s\n",
      "[CV] model__alpha=0.091 ..............................................\n",
      "[CV] .................. model__alpha=0.091, score=0.726, total=   0.0s\n",
      "[CV] model__alpha=0.091 ..............................................\n",
      "[CV] .................. model__alpha=0.091, score=0.746, total=   0.0s\n",
      "[CV] model__alpha=0.091 ..............................................\n",
      "[CV] .................. model__alpha=0.091, score=0.742, total=   0.0s\n",
      "[CV] model__alpha=0.091 ..............................................\n",
      "[CV] .................. model__alpha=0.091, score=0.739, total=   0.0s\n",
      "[CV] model__alpha=0.091 ..............................................\n",
      "[CV] .................. model__alpha=0.091, score=0.731, total=   0.0s\n",
      "[CV] model__alpha=0.092 ..............................................\n",
      "[CV] .................. model__alpha=0.092, score=0.725, total=   0.0s\n",
      "[CV] model__alpha=0.092 ..............................................\n",
      "[CV] .................. model__alpha=0.092, score=0.746, total=   0.0s\n",
      "[CV] model__alpha=0.092 ..............................................\n",
      "[CV] .................. model__alpha=0.092, score=0.741, total=   0.0s\n",
      "[CV] model__alpha=0.092 ..............................................\n",
      "[CV] .................. model__alpha=0.092, score=0.738, total=   0.0s\n",
      "[CV] model__alpha=0.092 ..............................................\n",
      "[CV] .................. model__alpha=0.092, score=0.731, total=   0.0s\n",
      "[CV] model__alpha=0.093 ..............................................\n",
      "[CV] .................. model__alpha=0.093, score=0.724, total=   0.0s\n",
      "[CV] model__alpha=0.093 ..............................................\n",
      "[CV] .................. model__alpha=0.093, score=0.744, total=   0.0s\n",
      "[CV] model__alpha=0.093 ..............................................\n",
      "[CV] .................. model__alpha=0.093, score=0.740, total=   0.0s\n",
      "[CV] model__alpha=0.093 ..............................................\n",
      "[CV] .................. model__alpha=0.093, score=0.737, total=   0.0s\n",
      "[CV] model__alpha=0.093 ..............................................\n",
      "[CV] .................. model__alpha=0.093, score=0.731, total=   0.0s\n",
      "[CV] model__alpha=0.094 ..............................................\n",
      "[CV] .................. model__alpha=0.094, score=0.724, total=   0.0s\n",
      "[CV] model__alpha=0.094 ..............................................\n",
      "[CV] .................. model__alpha=0.094, score=0.744, total=   0.0s\n",
      "[CV] model__alpha=0.094 ..............................................\n",
      "[CV] .................. model__alpha=0.094, score=0.737, total=   0.0s\n",
      "[CV] model__alpha=0.094 ..............................................\n",
      "[CV] .................. model__alpha=0.094, score=0.736, total=   0.0s\n",
      "[CV] model__alpha=0.094 ..............................................\n",
      "[CV] .................. model__alpha=0.094, score=0.728, total=   0.0s\n",
      "[CV] model__alpha=0.095 ..............................................\n",
      "[CV] .................. model__alpha=0.095, score=0.724, total=   0.0s\n",
      "[CV] model__alpha=0.095 ..............................................\n",
      "[CV] .................. model__alpha=0.095, score=0.744, total=   0.0s\n",
      "[CV] model__alpha=0.095 ..............................................\n",
      "[CV] .................. model__alpha=0.095, score=0.736, total=   0.0s\n",
      "[CV] model__alpha=0.095 ..............................................\n",
      "[CV] .................. model__alpha=0.095, score=0.735, total=   0.0s\n",
      "[CV] model__alpha=0.095 ..............................................\n",
      "[CV] .................. model__alpha=0.095, score=0.728, total=   0.0s\n",
      "[CV] model__alpha=0.096 ..............................................\n",
      "[CV] .................. model__alpha=0.096, score=0.724, total=   0.0s\n",
      "[CV] model__alpha=0.096 ..............................................\n",
      "[CV] .................. model__alpha=0.096, score=0.744, total=   0.0s\n",
      "[CV] model__alpha=0.096 ..............................................\n",
      "[CV] .................. model__alpha=0.096, score=0.736, total=   0.0s\n",
      "[CV] model__alpha=0.096 ..............................................\n",
      "[CV] .................. model__alpha=0.096, score=0.735, total=   0.0s\n",
      "[CV] model__alpha=0.096 ..............................................\n",
      "[CV] .................. model__alpha=0.096, score=0.728, total=   0.0s\n",
      "[CV] model__alpha=0.097 ..............................................\n",
      "[CV] .................. model__alpha=0.097, score=0.722, total=   0.0s\n",
      "[CV] model__alpha=0.097 ..............................................\n",
      "[CV] .................. model__alpha=0.097, score=0.744, total=   0.0s\n",
      "[CV] model__alpha=0.097 ..............................................\n",
      "[CV] .................. model__alpha=0.097, score=0.736, total=   0.0s\n",
      "[CV] model__alpha=0.097 ..............................................\n",
      "[CV] .................. model__alpha=0.097, score=0.734, total=   0.0s\n",
      "[CV] model__alpha=0.097 ..............................................\n",
      "[CV] .................. model__alpha=0.097, score=0.728, total=   0.0s\n",
      "[CV] model__alpha=0.098 ..............................................\n",
      "[CV] .................. model__alpha=0.098, score=0.722, total=   0.0s\n",
      "[CV] model__alpha=0.098 ..............................................\n",
      "[CV] .................. model__alpha=0.098, score=0.744, total=   0.0s\n",
      "[CV] model__alpha=0.098 ..............................................\n",
      "[CV] .................. model__alpha=0.098, score=0.736, total=   0.0s\n",
      "[CV] model__alpha=0.098 ..............................................\n",
      "[CV] .................. model__alpha=0.098, score=0.732, total=   0.0s\n",
      "[CV] model__alpha=0.098 ..............................................\n",
      "[CV] .................. model__alpha=0.098, score=0.728, total=   0.0s\n",
      "[CV] model__alpha=0.099 ..............................................\n",
      "[CV] .................. model__alpha=0.099, score=0.722, total=   0.0s\n",
      "[CV] model__alpha=0.099 ..............................................\n",
      "[CV] .................. model__alpha=0.099, score=0.744, total=   0.0s\n",
      "[CV] model__alpha=0.099 ..............................................\n",
      "[CV] .................. model__alpha=0.099, score=0.734, total=   0.0s\n",
      "[CV] model__alpha=0.099 ..............................................\n",
      "[CV] .................. model__alpha=0.099, score=0.731, total=   0.0s\n",
      "[CV] model__alpha=0.099 ..............................................\n",
      "[CV] .................. model__alpha=0.099, score=0.728, total=   0.0s\n"
     ]
    },
    {
     "name": "stderr",
     "output_type": "stream",
     "text": [
      "[Parallel(n_jobs=1)]: Done 495 out of 495 | elapsed:   23.7s finished\n"
     ]
    }
   ],
   "source": [
    "search.fit(X_train_3,y_train_3)\n",
    "coefficients = search.best_estimator_.named_steps['model'].coef_\n",
    "importance = np.abs(coefficients)\n",
    "features = X_train.columns"
   ]
  },
  {
   "cell_type": "code",
   "execution_count": 24,
   "id": "650736d2",
   "metadata": {
    "execution": {
     "iopub.execute_input": "2021-10-11T13:30:45.645103Z",
     "iopub.status.busy": "2021-10-11T13:30:45.640535Z",
     "iopub.status.idle": "2021-10-11T13:30:45.650422Z",
     "shell.execute_reply": "2021-10-11T13:30:45.649848Z",
     "shell.execute_reply.started": "2021-10-10T16:54:17.464724Z"
    },
    "papermill": {
     "duration": 0.112901,
     "end_time": "2021-10-11T13:30:45.650578",
     "exception": false,
     "start_time": "2021-10-11T13:30:45.537677",
     "status": "completed"
    },
    "tags": []
   },
   "outputs": [
    {
     "name": "stdout",
     "output_type": "stream",
     "text": [
      "- Best alpha:  {'model__alpha': 0.013000000000000001}\n",
      "- Best estimator ROC AUC:  0.7723446315248272\n",
      "- Best estimator coefficients:  [0.         0.         0.03029151 0.00453961 0.         0.07395012\n",
      " 0.         0.01670709 0.         0.1486469  0.         0.06386814\n",
      " 0.         0.04315679 0.        ]\n",
      "- Relevant features:  ['Balance' 'NumOfProducts' 'IsActiveMember' 'ratio_CreditScore_Age'\n",
      " 'Age_BoxCox' 'Geography_Germany' 'Gender_Female']\n",
      "- Irrelevant features:  ['CreditScore' 'Tenure' 'HasCrCard' 'EstimatedSalary'\n",
      " 'ratio_EstimatedSalary_Age' 'Geography_France' 'Geography_Spain'\n",
      " 'Gender_Male']\n"
     ]
    }
   ],
   "source": [
    "print('- Best alpha: ', search.best_params_)\n",
    "print('- Best estimator ROC AUC: ', search.best_score_)\n",
    "print('- Best estimator coefficients: ', np.abs(coefficients))\n",
    "print('- Relevant features: ', np.array(features)[importance > 0])\n",
    "print('- Irrelevant features: ', np.array(features)[importance == 0])"
   ]
  },
  {
   "cell_type": "markdown",
   "id": "3e3dbdff",
   "metadata": {
    "papermill": {
     "duration": 0.099667,
     "end_time": "2021-10-11T13:30:45.850771",
     "exception": false,
     "start_time": "2021-10-11T13:30:45.751104",
     "status": "completed"
    },
    "tags": []
   },
   "source": [
    "Although there are some relevant features that were also important in RFE (Age, NumOfProducts, etc), there are some differences: particularly, some Geography and Gender features that were pretty low in the importance scale of RFE but are relevant with the Lasso regression.\n",
    "\n",
    "I will keep only the features with Importance >0 and train a RF model with those."
   ]
  },
  {
   "cell_type": "code",
   "execution_count": 25,
   "id": "458dc66c",
   "metadata": {
    "execution": {
     "iopub.execute_input": "2021-10-11T13:30:46.055740Z",
     "iopub.status.busy": "2021-10-11T13:30:46.055053Z",
     "iopub.status.idle": "2021-10-11T13:30:46.072879Z",
     "shell.execute_reply": "2021-10-11T13:30:46.073394Z",
     "shell.execute_reply.started": "2021-10-10T16:54:17.480369Z"
    },
    "papermill": {
     "duration": 0.120386,
     "end_time": "2021-10-11T13:30:46.073574",
     "exception": false,
     "start_time": "2021-10-11T13:30:45.953188",
     "status": "completed"
    },
    "tags": []
   },
   "outputs": [
    {
     "data": {
      "text/html": [
       "<div>\n",
       "<style scoped>\n",
       "    .dataframe tbody tr th:only-of-type {\n",
       "        vertical-align: middle;\n",
       "    }\n",
       "\n",
       "    .dataframe tbody tr th {\n",
       "        vertical-align: top;\n",
       "    }\n",
       "\n",
       "    .dataframe thead th {\n",
       "        text-align: right;\n",
       "    }\n",
       "</style>\n",
       "<table border=\"1\" class=\"dataframe\">\n",
       "  <thead>\n",
       "    <tr style=\"text-align: right;\">\n",
       "      <th></th>\n",
       "      <th>Balance</th>\n",
       "      <th>NumOfProducts</th>\n",
       "      <th>IsActiveMember</th>\n",
       "      <th>ratio_CreditScore_Age</th>\n",
       "      <th>Age_BoxCox</th>\n",
       "      <th>Geography_Germany</th>\n",
       "      <th>Gender_Female</th>\n",
       "    </tr>\n",
       "  </thead>\n",
       "  <tbody>\n",
       "    <tr>\n",
       "      <th>6614</th>\n",
       "      <td>165312.27</td>\n",
       "      <td>1</td>\n",
       "      <td>0</td>\n",
       "      <td>20.264706</td>\n",
       "      <td>2.437258</td>\n",
       "      <td>0</td>\n",
       "      <td>0</td>\n",
       "    </tr>\n",
       "    <tr>\n",
       "      <th>2694</th>\n",
       "      <td>113146.98</td>\n",
       "      <td>2</td>\n",
       "      <td>1</td>\n",
       "      <td>21.655172</td>\n",
       "      <td>2.363809</td>\n",
       "      <td>1</td>\n",
       "      <td>0</td>\n",
       "    </tr>\n",
       "    <tr>\n",
       "      <th>7439</th>\n",
       "      <td>62339.81</td>\n",
       "      <td>2</td>\n",
       "      <td>0</td>\n",
       "      <td>16.000000</td>\n",
       "      <td>2.329951</td>\n",
       "      <td>0</td>\n",
       "      <td>1</td>\n",
       "    </tr>\n",
       "    <tr>\n",
       "      <th>3062</th>\n",
       "      <td>0.00</td>\n",
       "      <td>3</td>\n",
       "      <td>1</td>\n",
       "      <td>14.550000</td>\n",
       "      <td>2.509645</td>\n",
       "      <td>0</td>\n",
       "      <td>1</td>\n",
       "    </tr>\n",
       "    <tr>\n",
       "      <th>1902</th>\n",
       "      <td>0.00</td>\n",
       "      <td>1</td>\n",
       "      <td>1</td>\n",
       "      <td>23.424242</td>\n",
       "      <td>2.423673</td>\n",
       "      <td>0</td>\n",
       "      <td>1</td>\n",
       "    </tr>\n",
       "    <tr>\n",
       "      <th>...</th>\n",
       "      <td>...</td>\n",
       "      <td>...</td>\n",
       "      <td>...</td>\n",
       "      <td>...</td>\n",
       "      <td>...</td>\n",
       "      <td>...</td>\n",
       "      <td>...</td>\n",
       "    </tr>\n",
       "    <tr>\n",
       "      <th>390</th>\n",
       "      <td>147199.07</td>\n",
       "      <td>1</td>\n",
       "      <td>1</td>\n",
       "      <td>24.551724</td>\n",
       "      <td>2.363809</td>\n",
       "      <td>1</td>\n",
       "      <td>1</td>\n",
       "    </tr>\n",
       "    <tr>\n",
       "      <th>9014</th>\n",
       "      <td>121907.97</td>\n",
       "      <td>1</td>\n",
       "      <td>1</td>\n",
       "      <td>9.933333</td>\n",
       "      <td>2.679151</td>\n",
       "      <td>0</td>\n",
       "      <td>0</td>\n",
       "    </tr>\n",
       "    <tr>\n",
       "      <th>8031</th>\n",
       "      <td>0.00</td>\n",
       "      <td>2</td>\n",
       "      <td>0</td>\n",
       "      <td>18.500000</td>\n",
       "      <td>2.463018</td>\n",
       "      <td>0</td>\n",
       "      <td>1</td>\n",
       "    </tr>\n",
       "    <tr>\n",
       "      <th>9153</th>\n",
       "      <td>118214.32</td>\n",
       "      <td>3</td>\n",
       "      <td>0</td>\n",
       "      <td>14.083333</td>\n",
       "      <td>2.463018</td>\n",
       "      <td>1</td>\n",
       "      <td>0</td>\n",
       "    </tr>\n",
       "    <tr>\n",
       "      <th>7317</th>\n",
       "      <td>152581.06</td>\n",
       "      <td>1</td>\n",
       "      <td>0</td>\n",
       "      <td>12.322034</td>\n",
       "      <td>2.672427</td>\n",
       "      <td>1</td>\n",
       "      <td>0</td>\n",
       "    </tr>\n",
       "  </tbody>\n",
       "</table>\n",
       "<p>8000 rows × 7 columns</p>\n",
       "</div>"
      ],
      "text/plain": [
       "        Balance  NumOfProducts  IsActiveMember  ratio_CreditScore_Age  \\\n",
       "6614  165312.27              1               0              20.264706   \n",
       "2694  113146.98              2               1              21.655172   \n",
       "7439   62339.81              2               0              16.000000   \n",
       "3062       0.00              3               1              14.550000   \n",
       "1902       0.00              1               1              23.424242   \n",
       "...         ...            ...             ...                    ...   \n",
       "390   147199.07              1               1              24.551724   \n",
       "9014  121907.97              1               1               9.933333   \n",
       "8031       0.00              2               0              18.500000   \n",
       "9153  118214.32              3               0              14.083333   \n",
       "7317  152581.06              1               0              12.322034   \n",
       "\n",
       "      Age_BoxCox  Geography_Germany  Gender_Female  \n",
       "6614    2.437258                  0              0  \n",
       "2694    2.363809                  1              0  \n",
       "7439    2.329951                  0              1  \n",
       "3062    2.509645                  0              1  \n",
       "1902    2.423673                  0              1  \n",
       "...          ...                ...            ...  \n",
       "390     2.363809                  1              1  \n",
       "9014    2.679151                  0              0  \n",
       "8031    2.463018                  0              1  \n",
       "9153    2.463018                  1              0  \n",
       "7317    2.672427                  1              0  \n",
       "\n",
       "[8000 rows x 7 columns]"
      ]
     },
     "execution_count": 25,
     "metadata": {},
     "output_type": "execute_result"
    }
   ],
   "source": [
    "X_train_3 = X_train_3.drop(np.array(features)[importance == 0], axis=1)\n",
    "\n",
    "X_train_3"
   ]
  },
  {
   "cell_type": "code",
   "execution_count": 26,
   "id": "653bd7f3",
   "metadata": {
    "execution": {
     "iopub.execute_input": "2021-10-11T13:30:46.276635Z",
     "iopub.status.busy": "2021-10-11T13:30:46.275890Z",
     "iopub.status.idle": "2021-10-11T13:30:52.669879Z",
     "shell.execute_reply": "2021-10-11T13:30:52.669339Z",
     "shell.execute_reply.started": "2021-10-10T16:54:17.515077Z"
    },
    "papermill": {
     "duration": 6.496702,
     "end_time": "2021-10-11T13:30:52.670045",
     "exception": false,
     "start_time": "2021-10-11T13:30:46.173343",
     "status": "completed"
    },
    "tags": []
   },
   "outputs": [
    {
     "name": "stdout",
     "output_type": "stream",
     "text": [
      "ROC AUC with Lasso for Feature Selection: 0.831 (0.012)\n"
     ]
    }
   ],
   "source": [
    "# Initialize and create pipeline\n",
    "over = RandomOverSampler(random_state=11)\n",
    "scaler = StandardScaler()\n",
    "model = RandomForestClassifier(random_state=11)\n",
    "pipeline_lasso = imbpipeline(steps = [['over', over], ['scaler', scaler], ['classifier', model]])\n",
    "# evaluate model\n",
    "cv = RepeatedStratifiedKFold(n_splits=5, n_repeats=3, random_state=11)\n",
    "n_scores_lasso = cross_val_score(pipeline_lasso, X_train_3, y_train_3, scoring='roc_auc', cv=cv, n_jobs=-1, error_score='raise')\n",
    "# report performance\n",
    "print('ROC AUC with Lasso for Feature Selection: %.3f (%.3f)' % (mean(n_scores_lasso), std(n_scores_lasso)))"
   ]
  },
  {
   "cell_type": "markdown",
   "id": "4a6ae174",
   "metadata": {
    "papermill": {
     "duration": 0.102972,
     "end_time": "2021-10-11T13:30:52.873248",
     "exception": false,
     "start_time": "2021-10-11T13:30:52.770276",
     "status": "completed"
    },
    "tags": []
   },
   "source": [
    "We can see that Lasso is the worst performer here. This is most likely due to the fact that some of the features I dropped have some predictive power with the label. Maybe this relationship is not linear, and the Lasso being a linear model can't pick up on this.\n",
    "\n",
    "**Lasso Best Score: ROC-AUC=0,831**"
   ]
  },
  {
   "cell_type": "markdown",
   "id": "cd6269ea",
   "metadata": {
    "papermill": {
     "duration": 0.099329,
     "end_time": "2021-10-11T13:30:53.073283",
     "exception": false,
     "start_time": "2021-10-11T13:30:52.973954",
     "status": "completed"
    },
    "tags": []
   },
   "source": [
    "### Conclusions of the 3 techniques\n"
   ]
  },
  {
   "cell_type": "markdown",
   "id": "47a57c25",
   "metadata": {
    "papermill": {
     "duration": 0.098927,
     "end_time": "2021-10-11T13:30:53.271748",
     "exception": false,
     "start_time": "2021-10-11T13:30:53.172821",
     "status": "completed"
    },
    "tags": []
   },
   "source": [
    "According to the three techniques, the one with the **best performance was RFE with Random Forests**.\n",
    "**RFE Best Score: ROC-AUC=0,847**\n",
    "\n",
    "The same performance was obtained using 11 or 12 features. I will keep the one with 11 features because the model is less complex and might generalize better on the test set.\n",
    "\n",
    "So, the best technique is the following:\n",
    "- Standard Scaler\n",
    "- Oversampling\n",
    "- Random Forest with RFE\n",
    "- 11 features\n",
    "\n",
    "Now I am going to fine tune this model to get the best possible performance."
   ]
  },
  {
   "cell_type": "code",
   "execution_count": 27,
   "id": "b6e858e8",
   "metadata": {
    "execution": {
     "iopub.execute_input": "2021-10-11T13:30:53.478201Z",
     "iopub.status.busy": "2021-10-11T13:30:53.477535Z",
     "iopub.status.idle": "2021-10-11T13:30:53.480108Z",
     "shell.execute_reply": "2021-10-11T13:30:53.480655Z",
     "shell.execute_reply.started": "2021-10-10T16:54:23.789020Z"
    },
    "papermill": {
     "duration": 0.109959,
     "end_time": "2021-10-11T13:30:53.480819",
     "exception": false,
     "start_time": "2021-10-11T13:30:53.370860",
     "status": "completed"
    },
    "tags": []
   },
   "outputs": [
    {
     "data": {
      "text/plain": [
       "['HasCrCard', 'Geography_France', 'Geography_Spain', 'Gender_Female']"
      ]
     },
     "execution_count": 27,
     "metadata": {},
     "output_type": "execute_result"
    }
   ],
   "source": [
    "df_rfe[~df_rfe['Rank']].index.to_list()"
   ]
  },
  {
   "cell_type": "code",
   "execution_count": 28,
   "id": "272c6665",
   "metadata": {
    "execution": {
     "iopub.execute_input": "2021-10-11T13:30:53.686737Z",
     "iopub.status.busy": "2021-10-11T13:30:53.684279Z",
     "iopub.status.idle": "2021-10-11T13:30:53.689291Z",
     "shell.execute_reply": "2021-10-11T13:30:53.689790Z",
     "shell.execute_reply.started": "2021-10-10T16:54:23.796921Z"
    },
    "papermill": {
     "duration": 0.109463,
     "end_time": "2021-10-11T13:30:53.689984",
     "exception": false,
     "start_time": "2021-10-11T13:30:53.580521",
     "status": "completed"
    },
    "tags": []
   },
   "outputs": [
    {
     "data": {
      "text/plain": [
       "array([ True,  True,  True,  True, False,  True,  True,  True,  True,\n",
       "        True, False,  True, False, False,  True])"
      ]
     },
     "execution_count": 28,
     "metadata": {},
     "output_type": "execute_result"
    }
   ],
   "source": [
    "rfe_11ftrs.support_"
   ]
  },
  {
   "cell_type": "markdown",
   "id": "3c59edfd",
   "metadata": {
    "papermill": {
     "duration": 0.099797,
     "end_time": "2021-10-11T13:30:53.891082",
     "exception": false,
     "start_time": "2021-10-11T13:30:53.791285",
     "status": "completed"
    },
    "tags": []
   },
   "source": [
    "# Fine-Tune the System"
   ]
  },
  {
   "cell_type": "markdown",
   "id": "a1dfb833",
   "metadata": {
    "papermill": {
     "duration": 0.100353,
     "end_time": "2021-10-11T13:30:54.092500",
     "exception": false,
     "start_time": "2021-10-11T13:30:53.992147",
     "status": "completed"
    },
    "tags": []
   },
   "source": [
    "First of all, I am only going to keep the relevant features, which we obtained with RFE"
   ]
  },
  {
   "cell_type": "code",
   "execution_count": 29,
   "id": "35eebd59",
   "metadata": {
    "execution": {
     "iopub.execute_input": "2021-10-11T13:30:54.297258Z",
     "iopub.status.busy": "2021-10-11T13:30:54.296624Z",
     "iopub.status.idle": "2021-10-11T13:30:54.302593Z",
     "shell.execute_reply": "2021-10-11T13:30:54.303118Z",
     "shell.execute_reply.started": "2021-10-10T16:54:23.810792Z"
    },
    "papermill": {
     "duration": 0.109658,
     "end_time": "2021-10-11T13:30:54.303297",
     "exception": false,
     "start_time": "2021-10-11T13:30:54.193639",
     "status": "completed"
    },
    "tags": []
   },
   "outputs": [
    {
     "data": {
      "text/plain": [
       "['HasCrCard', 'Geography_France', 'Geography_Spain', 'Gender_Female']"
      ]
     },
     "execution_count": 29,
     "metadata": {},
     "output_type": "execute_result"
    }
   ],
   "source": [
    "# Columns to drop\n",
    "cols_to_drop = df_rfe[~df_rfe['Rank']].index.to_list()\n",
    "cols_to_drop"
   ]
  },
  {
   "cell_type": "code",
   "execution_count": 30,
   "id": "1cbdea1a",
   "metadata": {
    "execution": {
     "iopub.execute_input": "2021-10-11T13:30:54.509907Z",
     "iopub.status.busy": "2021-10-11T13:30:54.507082Z",
     "iopub.status.idle": "2021-10-11T13:30:54.514114Z",
     "shell.execute_reply": "2021-10-11T13:30:54.513588Z",
     "shell.execute_reply.started": "2021-10-10T16:54:23.827350Z"
    },
    "papermill": {
     "duration": 0.110568,
     "end_time": "2021-10-11T13:30:54.514257",
     "exception": false,
     "start_time": "2021-10-11T13:30:54.403689",
     "status": "completed"
    },
    "tags": []
   },
   "outputs": [],
   "source": [
    "# Transform Training and Testing datasets\n",
    "X_train = X_train.drop(cols_to_drop, axis=1)\n",
    "X_test = X_test.drop(cols_to_drop, axis=1)"
   ]
  },
  {
   "cell_type": "code",
   "execution_count": 31,
   "id": "1c5a4db6",
   "metadata": {
    "execution": {
     "iopub.execute_input": "2021-10-11T13:30:54.730329Z",
     "iopub.status.busy": "2021-10-11T13:30:54.720585Z",
     "iopub.status.idle": "2021-10-11T13:33:50.286297Z",
     "shell.execute_reply": "2021-10-11T13:33:50.286811Z",
     "shell.execute_reply.started": "2021-10-10T16:54:23.841686Z"
    },
    "papermill": {
     "duration": 175.671983,
     "end_time": "2021-10-11T13:33:50.287010",
     "exception": false,
     "start_time": "2021-10-11T13:30:54.615027",
     "status": "completed"
    },
    "tags": []
   },
   "outputs": [
    {
     "name": "stdout",
     "output_type": "stream",
     "text": [
      "{'randomforestclassifier__n_estimators': 100, 'randomforestclassifier__min_samples_split': 8, 'randomforestclassifier__min_samples_leaf': 8, 'randomforestclassifier__max_samples': 0.1, 'randomforestclassifier__max_features': 0.3, 'randomforestclassifier__max_depth': 10, 'randomforestclassifier__criterion': 'entropy', 'randomforestclassifier__bootstrap': False}\n",
      "Best Score: 0.855273473240169\n"
     ]
    }
   ],
   "source": [
    "# Initialize steps of the pipeline\n",
    "oversampling = RandomOverSampler(random_state=11)\n",
    "scaler = StandardScaler()\n",
    "model = RandomForestClassifier(random_state=11)\n",
    "\n",
    "# Pipeline\n",
    "pipeline_tune = make_pipeline(oversampling, scaler, model)\n",
    "\n",
    "# Parameter grid\n",
    "grid_tune = {\n",
    "    \"randomforestclassifier__n_estimators\": [10, 25, 50, 100, 250, 500, 750, 1000, 1250, 1500, 1750, 2000],\n",
    "    \"randomforestclassifier__criterion\": [\"gini\", \"entropy\"],\n",
    "    \"randomforestclassifier__max_depth\": [10, 20, 30, 40, 50, 75, 100, 150, 200, None],\n",
    "    \"randomforestclassifier__min_samples_split\": [1, 2, 3, 4, 5, 8, 10, 15, 20],\n",
    "    \"randomforestclassifier__min_samples_leaf\": [1, 2, 3, 4, 5, 8, 10, 15, 20],\n",
    "    \"randomforestclassifier__max_features\": [\"auto\", None, 0.1, 0.2, 0.3, 0.4, 0.5, 0.6, 0.7, 0.8, 0.9],\n",
    "    \"randomforestclassifier__bootstrap\": [True, False],\n",
    "    \"randomforestclassifier__max_samples\": [None, 0.1, 0.2, 0.3, 0.4, 0.5, 0.6, 0.7, 0.8, 0.9],\n",
    "}\n",
    "\n",
    "# Cross Validation\n",
    "kf_tune = StratifiedKFold(n_splits=5)\n",
    "\n",
    "# RandomizedSearchCV using RFC model, RandomOverSampler & StandardScaler. Scoring is ROC-AUC\n",
    "rand_rf = RandomizedSearchCV(pipeline_tune, grid_tune, scoring='roc_auc', n_iter=10, n_jobs=-1, cv=kf_tune, random_state=11)\n",
    "\n",
    "# Fit the model to the data\n",
    "tuned_model = rand_rf.fit(X_train, y_train)\n",
    "\n",
    "# Results\n",
    "print(tuned_model.best_params_)\n",
    "print('Best Score: %s' % tuned_model.best_score_)"
   ]
  },
  {
   "cell_type": "code",
   "execution_count": 32,
   "id": "f42c5940",
   "metadata": {
    "execution": {
     "iopub.execute_input": "2021-10-11T13:33:50.492705Z",
     "iopub.status.busy": "2021-10-11T13:33:50.492033Z",
     "iopub.status.idle": "2021-10-11T13:34:37.510686Z",
     "shell.execute_reply": "2021-10-11T13:34:37.511215Z",
     "shell.execute_reply.started": "2021-10-10T16:57:20.016365Z"
    },
    "papermill": {
     "duration": 47.123639,
     "end_time": "2021-10-11T13:34:37.511398",
     "exception": false,
     "start_time": "2021-10-11T13:33:50.387759",
     "status": "completed"
    },
    "tags": []
   },
   "outputs": [
    {
     "name": "stdout",
     "output_type": "stream",
     "text": [
      "{'randomforestclassifier__n_estimators': 140, 'randomforestclassifier__min_samples_split': 10, 'randomforestclassifier__min_samples_leaf': 10, 'randomforestclassifier__max_samples': 0.2, 'randomforestclassifier__max_features': 0.4, 'randomforestclassifier__max_depth': 8, 'randomforestclassifier__criterion': 'entropy', 'randomforestclassifier__bootstrap': False}\n",
      "Best Score: 0.8565332126243608\n"
     ]
    }
   ],
   "source": [
    "# Parameter grid\n",
    "grid_tune_2 = {\n",
    "    \"randomforestclassifier__n_estimators\": [70, 80, 90, 100, 110, 120, 130, 140, 150],\n",
    "    \"randomforestclassifier__criterion\": [\"entropy\"],\n",
    "    \"randomforestclassifier__max_depth\": [6, 7, 8, 9, 10, 11, 12, 13],\n",
    "    \"randomforestclassifier__min_samples_split\": [6, 7, 8, 9, 10],\n",
    "    \"randomforestclassifier__min_samples_leaf\": [6, 7, 8, 9, 10],\n",
    "    \"randomforestclassifier__max_features\": [0.2, 0.25, 0.3, 0.35, 0.4],\n",
    "    \"randomforestclassifier__bootstrap\": [False],\n",
    "    \"randomforestclassifier__max_samples\": [None, 0.05, 0.1, 0,15, 0.2],\n",
    "}\n",
    "\n",
    "# Cross Validation\n",
    "kf_tune = StratifiedKFold(n_splits=5)\n",
    "\n",
    "# RandomizedSearchCV using RFC model, RandomOverSampler & StandardScaler. Scoring is ROC-AUC\n",
    "rand_rf_2 = RandomizedSearchCV(pipeline_tune, grid_tune_2, scoring='roc_auc', n_iter=10, n_jobs=-1, cv=kf_tune, random_state=11)\n",
    "\n",
    "# Fit the model to the data\n",
    "tuned_model_2 = rand_rf_2.fit(X_train, y_train)\n",
    "\n",
    "# Results\n",
    "print(tuned_model_2.best_params_)\n",
    "print('Best Score: %s' % tuned_model_2.best_score_)"
   ]
  },
  {
   "cell_type": "markdown",
   "id": "47259ca4",
   "metadata": {
    "papermill": {
     "duration": 0.102868,
     "end_time": "2021-10-11T13:34:37.715592",
     "exception": false,
     "start_time": "2021-10-11T13:34:37.612724",
     "status": "completed"
    },
    "tags": []
   },
   "source": [
    "* **Final Training ROC-AUC: 0.858**"
   ]
  },
  {
   "cell_type": "markdown",
   "id": "bcb80bdc",
   "metadata": {
    "papermill": {
     "duration": 0.102417,
     "end_time": "2021-10-11T13:34:37.921163",
     "exception": false,
     "start_time": "2021-10-11T13:34:37.818746",
     "status": "completed"
    },
    "tags": []
   },
   "source": [
    "## Results: Test dataset Scores"
   ]
  },
  {
   "cell_type": "markdown",
   "id": "56fffa01",
   "metadata": {
    "papermill": {
     "duration": 0.101259,
     "end_time": "2021-10-11T13:34:38.155018",
     "exception": false,
     "start_time": "2021-10-11T13:34:38.053759",
     "status": "completed"
    },
    "tags": []
   },
   "source": [
    "Finally, I will use my final model on the Test dataset (which hasn't been used at all yet, and shouldn't be used for training) and see the scores I get."
   ]
  },
  {
   "cell_type": "code",
   "execution_count": 33,
   "id": "cdce756c",
   "metadata": {
    "execution": {
     "iopub.execute_input": "2021-10-11T13:34:38.367818Z",
     "iopub.status.busy": "2021-10-11T13:34:38.366747Z",
     "iopub.status.idle": "2021-10-11T13:34:38.423819Z",
     "shell.execute_reply": "2021-10-11T13:34:38.422780Z",
     "shell.execute_reply.started": "2021-10-10T16:58:07.066265Z"
    },
    "papermill": {
     "duration": 0.167399,
     "end_time": "2021-10-11T13:34:38.424154",
     "exception": false,
     "start_time": "2021-10-11T13:34:38.256755",
     "status": "completed"
    },
    "tags": []
   },
   "outputs": [
    {
     "name": "stdout",
     "output_type": "stream",
     "text": [
      "              precision    recall  f1-score   support\n",
      "\n",
      "    No Churn       0.93      0.84      0.88      1593\n",
      "       Churn       0.54      0.74      0.63       407\n",
      "\n",
      "    accuracy                           0.82      2000\n",
      "   macro avg       0.73      0.79      0.75      2000\n",
      "weighted avg       0.85      0.82      0.83      2000\n",
      "\n"
     ]
    }
   ],
   "source": [
    "labels = ['No Churn', 'Churn']\n",
    "y_pred = tuned_model_2.predict(X_test)\n",
    "print(classification_report(y_test, y_pred, target_names=labels))"
   ]
  },
  {
   "cell_type": "code",
   "execution_count": 34,
   "id": "7af49910",
   "metadata": {
    "execution": {
     "iopub.execute_input": "2021-10-11T13:34:38.636574Z",
     "iopub.status.busy": "2021-10-11T13:34:38.635857Z",
     "iopub.status.idle": "2021-10-11T13:34:38.901691Z",
     "shell.execute_reply": "2021-10-11T13:34:38.902166Z",
     "shell.execute_reply.started": "2021-10-10T16:58:07.127343Z"
    },
    "papermill": {
     "duration": 0.374614,
     "end_time": "2021-10-11T13:34:38.902359",
     "exception": false,
     "start_time": "2021-10-11T13:34:38.527745",
     "status": "completed"
    },
    "tags": []
   },
   "outputs": [
    {
     "data": {
      "text/plain": [
       "<AxesSubplot:>"
      ]
     },
     "execution_count": 34,
     "metadata": {},
     "output_type": "execute_result"
    },
    {
     "data": {
      "image/png": "[encoded data removed]",
      "text/plain": [
       "<Figure size 432x288 with 2 Axes>"
      ]
     },
     "metadata": {
      "needs_background": "light"
     },
     "output_type": "display_data"
    }
   ],
   "source": [
    "#Get the confusion matrix\n",
    "cm = confusion_matrix(y_test, y_pred)\n",
    "\n",
    "#Plot the confusion matrix\n",
    "xlabels = ['Predicted: NO', 'Predicted: YES']\n",
    "ylabels = ['Actual: NO', 'Actual: YES']\n",
    "sns.heatmap(data=cm, xticklabels=xlabels, yticklabels=ylabels, annot=True, fmt='g')"
   ]
  },
  {
   "cell_type": "code",
   "execution_count": 35,
   "id": "12ec0982",
   "metadata": {
    "execution": {
     "iopub.execute_input": "2021-10-11T13:34:39.116149Z",
     "iopub.status.busy": "2021-10-11T13:34:39.115471Z",
     "iopub.status.idle": "2021-10-11T13:34:39.122394Z",
     "shell.execute_reply": "2021-10-11T13:34:39.121875Z",
     "shell.execute_reply.started": "2021-10-10T16:58:07.341238Z"
    },
    "papermill": {
     "duration": 0.115558,
     "end_time": "2021-10-11T13:34:39.122535",
     "exception": false,
     "start_time": "2021-10-11T13:34:39.006977",
     "status": "completed"
    },
    "tags": []
   },
   "outputs": [
    {
     "data": {
      "text/plain": [
       "0.7909697062239436"
      ]
     },
     "execution_count": 35,
     "metadata": {},
     "output_type": "execute_result"
    }
   ],
   "source": [
    "roc_auc_score(y_test, y_pred)"
   ]
  },
  {
   "cell_type": "markdown",
   "id": "0dc782c7",
   "metadata": {
    "papermill": {
     "duration": 0.103468,
     "end_time": "2021-10-11T13:34:39.331565",
     "exception": false,
     "start_time": "2021-10-11T13:34:39.228097",
     "status": "completed"
    },
    "tags": []
   },
   "source": [
    "* **Final Test ROC-AUC: 0.791**"
   ]
  },
  {
   "cell_type": "code",
   "execution_count": 36,
   "id": "3f2aedca",
   "metadata": {
    "execution": {
     "iopub.execute_input": "2021-10-11T13:34:39.545494Z",
     "iopub.status.busy": "2021-10-11T13:34:39.544671Z",
     "iopub.status.idle": "2021-10-11T13:34:39.550163Z",
     "shell.execute_reply": "2021-10-11T13:34:39.549655Z",
     "shell.execute_reply.started": "2021-10-10T16:58:07.352596Z"
    },
    "papermill": {
     "duration": 0.114182,
     "end_time": "2021-10-11T13:34:39.550326",
     "exception": false,
     "start_time": "2021-10-11T13:34:39.436144",
     "status": "completed"
    },
    "tags": []
   },
   "outputs": [
    {
     "data": {
      "text/plain": [
       "0.82"
      ]
     },
     "execution_count": 36,
     "metadata": {},
     "output_type": "execute_result"
    }
   ],
   "source": [
    "accuracy_score(y_test, y_pred)"
   ]
  },
  {
   "cell_type": "code",
   "execution_count": 37,
   "id": "f1d184b7",
   "metadata": {
    "execution": {
     "iopub.execute_input": "2021-10-11T13:34:39.785745Z",
     "iopub.status.busy": "2021-10-11T13:34:39.785059Z",
     "iopub.status.idle": "2021-10-11T13:34:39.788857Z",
     "shell.execute_reply": "2021-10-11T13:34:39.788187Z",
     "shell.execute_reply.started": "2021-10-10T16:58:07.363522Z"
    },
    "papermill": {
     "duration": 0.133608,
     "end_time": "2021-10-11T13:34:39.789032",
     "exception": false,
     "start_time": "2021-10-11T13:34:39.655424",
     "status": "completed"
    },
    "tags": []
   },
   "outputs": [],
   "source": [
    "importance = tuned_model_2.best_estimator_[2].feature_importances_"
   ]
  },
  {
   "cell_type": "code",
   "execution_count": 38,
   "id": "28f074af",
   "metadata": {
    "execution": {
     "iopub.execute_input": "2021-10-11T13:34:40.006117Z",
     "iopub.status.busy": "2021-10-11T13:34:40.005115Z",
     "iopub.status.idle": "2021-10-11T13:34:40.008117Z",
     "shell.execute_reply": "2021-10-11T13:34:40.007512Z",
     "shell.execute_reply.started": "2021-10-10T16:58:07.389446Z"
    },
    "papermill": {
     "duration": 0.115275,
     "end_time": "2021-10-11T13:34:40.008257",
     "exception": false,
     "start_time": "2021-10-11T13:34:39.892982",
     "status": "completed"
    },
    "tags": []
   },
   "outputs": [],
   "source": [
    "def plot_feature_importance(importance, names, model_type):\n",
    "\n",
    "    #Create arrays from feature importance and feature names\n",
    "    feature_importance = np.array(importance)\n",
    "    feature_names = np.array(names)\n",
    "\n",
    "    #Create a DataFrame using a Dictionary\n",
    "    data={'feature_names':feature_names,'feature_importance':feature_importance}\n",
    "    fi_df = pd.DataFrame(data)\n",
    "\n",
    "    #Sort the DataFrame in order decreasing feature importance\n",
    "    fi_df.sort_values(by=['feature_importance'], ascending=False,inplace=True)\n",
    "\n",
    "    #Define size of bar plot\n",
    "    plt.figure(figsize=(10,8))\n",
    "    #Plot Searborn bar chart\n",
    "    sns.barplot(x=fi_df['feature_importance'], y=fi_df['feature_names'])\n",
    "    #Add chart labels\n",
    "    plt.title(model_type + 'FEATURE IMPORTANCE')\n",
    "    plt.xlabel('FEATURE IMPORTANCE')\n",
    "    plt.ylabel('FEATURE NAMES')"
   ]
  },
  {
   "cell_type": "code",
   "execution_count": 39,
   "id": "ab6a57ce",
   "metadata": {
    "execution": {
     "iopub.execute_input": "2021-10-11T13:34:40.258607Z",
     "iopub.status.busy": "2021-10-11T13:34:40.254918Z",
     "iopub.status.idle": "2021-10-11T13:34:40.547260Z",
     "shell.execute_reply": "2021-10-11T13:34:40.546568Z",
     "shell.execute_reply.started": "2021-10-10T16:58:07.398299Z"
    },
    "papermill": {
     "duration": 0.433761,
     "end_time": "2021-10-11T13:34:40.547407",
     "exception": false,
     "start_time": "2021-10-11T13:34:40.113646",
     "status": "completed"
    },
    "tags": []
   },
   "outputs": [
    {
     "data": {
      "image/png": "[encoded data removed]",
      "text/plain": [
       "<Figure size 720x576 with 1 Axes>"
      ]
     },
     "metadata": {
      "needs_background": "light"
     },
     "output_type": "display_data"
    }
   ],
   "source": [
    "plot_feature_importance(importance, X_train.columns, 'RANDOM FOREST')"
   ]
  },
  {
   "cell_type": "markdown",
   "id": "7ab4a099",
   "metadata": {
    "papermill": {
     "duration": 0.107033,
     "end_time": "2021-10-11T13:34:40.759709",
     "exception": false,
     "start_time": "2021-10-11T13:34:40.652676",
     "status": "completed"
    },
    "tags": []
   },
   "source": [
    "# Final Results and conclusions"
   ]
  },
  {
   "cell_type": "markdown",
   "id": "68f3110e",
   "metadata": {
    "papermill": {
     "duration": 0.105396,
     "end_time": "2021-10-11T13:34:40.970960",
     "exception": false,
     "start_time": "2021-10-11T13:34:40.865564",
     "status": "completed"
    },
    "tags": []
   },
   "source": [
    "Here is a table with the results of every method we've tested:"
   ]
  },
  {
   "cell_type": "code",
   "execution_count": 40,
   "id": "28bab5f5",
   "metadata": {
    "execution": {
     "iopub.execute_input": "2021-10-11T13:34:41.193864Z",
     "iopub.status.busy": "2021-10-11T13:34:41.188066Z",
     "iopub.status.idle": "2021-10-11T13:34:41.204830Z",
     "shell.execute_reply": "2021-10-11T13:34:41.205306Z",
     "shell.execute_reply.started": "2021-10-10T16:58:07.727657Z"
    },
    "papermill": {
     "duration": 0.128032,
     "end_time": "2021-10-11T13:34:41.205486",
     "exception": false,
     "start_time": "2021-10-11T13:34:41.077454",
     "status": "completed"
    },
    "tags": []
   },
   "outputs": [
    {
     "data": {
      "text/html": [
       "<div>\n",
       "<style scoped>\n",
       "    .dataframe tbody tr th:only-of-type {\n",
       "        vertical-align: middle;\n",
       "    }\n",
       "\n",
       "    .dataframe tbody tr th {\n",
       "        vertical-align: top;\n",
       "    }\n",
       "\n",
       "    .dataframe thead th {\n",
       "        text-align: right;\n",
       "    }\n",
       "</style>\n",
       "<table border=\"1\" class=\"dataframe\">\n",
       "  <thead>\n",
       "    <tr style=\"text-align: right;\">\n",
       "      <th></th>\n",
       "      <th>Method</th>\n",
       "      <th>Set</th>\n",
       "      <th>ROC-AUC</th>\n",
       "    </tr>\n",
       "  </thead>\n",
       "  <tbody>\n",
       "    <tr>\n",
       "      <th>0</th>\n",
       "      <td>Base Random Forest model</td>\n",
       "      <td>Train</td>\n",
       "      <td>0.844611</td>\n",
       "    </tr>\n",
       "    <tr>\n",
       "      <th>1</th>\n",
       "      <td>1. RFE + Random Forest</td>\n",
       "      <td>Train</td>\n",
       "      <td>0.846632</td>\n",
       "    </tr>\n",
       "    <tr>\n",
       "      <th>2</th>\n",
       "      <td>2. PCA + Random Forest</td>\n",
       "      <td>Train</td>\n",
       "      <td>0.832578</td>\n",
       "    </tr>\n",
       "    <tr>\n",
       "      <th>3</th>\n",
       "      <td>3. Lasso + Random Forest</td>\n",
       "      <td>Train</td>\n",
       "      <td>0.830978</td>\n",
       "    </tr>\n",
       "    <tr>\n",
       "      <th>4</th>\n",
       "      <td>1. RFE + Random Forest, Tuned</td>\n",
       "      <td>Train</td>\n",
       "      <td>0.856533</td>\n",
       "    </tr>\n",
       "    <tr>\n",
       "      <th>5</th>\n",
       "      <td>Base Random Forest model, Tuned</td>\n",
       "      <td>Test</td>\n",
       "      <td>0.790970</td>\n",
       "    </tr>\n",
       "    <tr>\n",
       "      <th>6</th>\n",
       "      <td>1. RFE + Random Forest, Tuned</td>\n",
       "      <td>Test</td>\n",
       "      <td>0.789960</td>\n",
       "    </tr>\n",
       "  </tbody>\n",
       "</table>\n",
       "</div>"
      ],
      "text/plain": [
       "                            Method    Set   ROC-AUC\n",
       "0         Base Random Forest model  Train  0.844611\n",
       "1           1. RFE + Random Forest  Train  0.846632\n",
       "2           2. PCA + Random Forest  Train  0.832578\n",
       "3         3. Lasso + Random Forest  Train  0.830978\n",
       "4    1. RFE + Random Forest, Tuned  Train  0.856533\n",
       "5  Base Random Forest model, Tuned   Test  0.790970\n",
       "6    1. RFE + Random Forest, Tuned   Test  0.789960"
      ]
     },
     "execution_count": 40,
     "metadata": {},
     "output_type": "execute_result"
    }
   ],
   "source": [
    "# initialize list of lists\n",
    "results = [['Base Random Forest model', 'Train', mean(n_scores_base)], \n",
    "           ['1. RFE + Random Forest', 'Train', mean(n_scores_11ftrs)], \n",
    "           ['2. PCA + Random Forest', 'Train', mean(n_scores_11pc)],\n",
    "           ['3. Lasso + Random Forest', 'Train', mean(n_scores_lasso)],\n",
    "           ['1. RFE + Random Forest, Tuned', 'Train', tuned_model_2.best_score_],\n",
    "           ['Base Random Forest model, Tuned', 'Test', roc_auc_score(y_test, y_pred)],\n",
    "           ['1. RFE + Random Forest, Tuned', 'Test', 0.78996]]\n",
    " \n",
    "# Create the pandas DataFrame\n",
    "df_results = pd.DataFrame(results, columns = ['Method', 'Set', 'ROC-AUC'])\n",
    "\n",
    "df_results"
   ]
  },
  {
   "cell_type": "markdown",
   "id": "098f4363",
   "metadata": {
    "papermill": {
     "duration": 0.107779,
     "end_time": "2021-10-11T13:34:41.419118",
     "exception": false,
     "start_time": "2021-10-11T13:34:41.311339",
     "status": "completed"
    },
    "tags": []
   },
   "source": [
    "**The final score of the model is Test ROC-AUC: 0.791**. This was done with 11 features that were selected via RFE.\n",
    "\n",
    "The improvement over the model without RFE (which was done in the previous notebook) is negligible (only in the 3rd decimal). The training score of both methods (with and without RFE) were around 0.85, so the model is clearly overfitting. \n",
    "\n",
    "However, it is important to note that with RFE we reached the same performance but using 11 features instead of 15 (27% reduction). This might not be such an important thing here as there are only 10000 samples. But a simpler model would be easier to scale and consumes less time and computing power.\n",
    "\n",
    "As a next step, I would try to constrain the model further to solve the overfitting issue. In the Randomized Searched, I could try using less samples or features per tree, aswell as reducing the depth of the trees. This strategy might get worse results in the training set (higher bias) but better results in the test set (less variance)."
   ]
  },
  {
   "cell_type": "code",
   "execution_count": null,
   "id": "9f4a34d7",
   "metadata": {
    "papermill": {
     "duration": 0.10626,
     "end_time": "2021-10-11T13:34:41.631807",
     "exception": false,
     "start_time": "2021-10-11T13:34:41.525547",
     "status": "completed"
    },
    "tags": []
   },
   "outputs": [],
   "source": []
  }
 ],
 "metadata": {
  "kernelspec": {
   "display_name": "Python 3",
   "language": "python",
   "name": "python3"
  },
  "language_info": {
   "codemirror_mode": {
    "name": "ipython",
    "version": 3
   },
   "file_extension": ".py",
   "mimetype": "text/x-python",
   "name": "python",
   "nbconvert_exporter": "python",
   "pygments_lexer": "ipython3",
   "version": "3.7.10"
  },
  "papermill": {
   "default_parameters": {},
   "duration": 1707.320367,
   "end_time": "2021-10-11T13:34:42.550516",
   "environment_variables": {},
   "exception": null,
   "input_path": "__notebook__.ipynb",
   "output_path": "__notebook__.ipynb",
   "parameters": {},
   "start_time": "2021-10-11T13:06:15.230149",
   "version": "2.3.3"
  }
 },
 "nbformat": 4,
 "nbformat_minor": 5
}
